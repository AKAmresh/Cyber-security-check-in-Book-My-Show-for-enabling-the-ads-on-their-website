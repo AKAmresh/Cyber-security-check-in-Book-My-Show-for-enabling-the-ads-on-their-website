{
 "cells": [
  {
   "cell_type": "markdown",
   "metadata": {
    "id": "YFmq5S6QyuFN"
   },
   "source": [
    "# **Project 3:** Malicious or Phishing vs Safe URL Detection"
   ]
  },
  {
   "cell_type": "markdown",
   "metadata": {
    "id": "4N1e7SSRyuFY"
   },
   "source": [
    "### Importing the Libraries"
   ]
  },
  {
   "cell_type": "code",
   "execution_count": 1,
   "metadata": {
    "executionInfo": {
     "elapsed": 2240,
     "status": "ok",
     "timestamp": 1671372635823,
     "user": {
      "displayName": "Shan Thiagarajan",
      "userId": "07848716946087442606"
     },
     "user_tz": -330
    },
    "id": "I5TBEwnTyuFZ"
   },
   "outputs": [],
   "source": [
    "import numpy as np  \n",
    "from sklearn.ensemble import RandomForestClassifier\n",
    "from sklearn.linear_model import LogisticRegression\n",
    "from sklearn.svm import SVC\n",
    "from sklearn.tree import DecisionTreeClassifier\n",
    "from sklearn.neighbors import KNeighborsClassifier\n",
    "from sklearn.discriminant_analysis import LinearDiscriminantAnalysis\n",
    "from sklearn.naive_bayes import GaussianNB\n",
    "from sklearn.model_selection import train_test_split\n",
    "from sklearn.model_selection import KFold,cross_val_score\n",
    "import matplotlib.pyplot as plt\n",
    "import pandas as pd\n",
    "import seaborn as sns\n",
    "from sklearn.metrics import accuracy_score, classification_report,roc_curve,confusion_matrix\n",
    "from sklearn import metrics\n",
    "from xgboost import XGBClassifier\n",
    "import joblib\n",
    "sns.set()"
   ]
  },
  {
   "cell_type": "code",
   "execution_count": 2,
   "metadata": {
    "executionInfo": {
     "elapsed": 1,
     "status": "ok",
     "timestamp": 1671372643584,
     "user": {
      "displayName": "Shan Thiagarajan",
      "userId": "07848716946087442606"
     },
     "user_tz": -330
    },
    "id": "oN0KNxevyuFa"
   },
   "outputs": [],
   "source": [
    "import warnings\n",
    "warnings.filterwarnings(action='ignore', category=UserWarning)"
   ]
  },
  {
   "cell_type": "code",
   "execution_count": 3,
   "metadata": {
    "executionInfo": {
     "elapsed": 3637,
     "status": "ok",
     "timestamp": 1671372654687,
     "user": {
      "displayName": "Shan Thiagarajan",
      "userId": "07848716946087442606"
     },
     "user_tz": -330
    },
    "id": "ToqW4bYdyuFb"
   },
   "outputs": [],
   "source": [
    "from keras.models import Sequential\n",
    "from keras.layers import Dense\n",
    "from keras.wrappers.scikit_learn import KerasClassifier\n",
    "from keras.utils import np_utils\n",
    "from sklearn.preprocessing import LabelEncoder"
   ]
  },
  {
   "cell_type": "markdown",
   "metadata": {
    "id": "AWLSO2SByuFb"
   },
   "source": [
    "## Task 1: Exploratory Data Analysis:"
   ]
  },
  {
   "cell_type": "code",
   "execution_count": 5,
   "metadata": {
    "colab": {
     "base_uri": "https://localhost:8080/"
    },
    "executionInfo": {
     "elapsed": 20574,
     "status": "ok",
     "timestamp": 1671372692135,
     "user": {
      "displayName": "Shan Thiagarajan",
      "userId": "07848716946087442606"
     },
     "user_tz": -330
    },
    "id": "D4xlRgOby-SQ",
    "outputId": "286a8834-58dd-47cc-c257-d223a391e65e"
   },
   "outputs": [
    {
     "name": "stdout",
     "output_type": "stream",
     "text": [
      "Mounted at /content/drive\n"
     ]
    }
   ],
   "source": [
    "from google.colab import drive\n",
    "drive.mount('/content/drive')"
   ]
  },
  {
   "cell_type": "code",
   "execution_count": 6,
   "metadata": {
    "executionInfo": {
     "elapsed": 714,
     "status": "ok",
     "timestamp": 1671372901870,
     "user": {
      "displayName": "Shan Thiagarajan",
      "userId": "07848716946087442606"
     },
     "user_tz": -330
    },
    "id": "kbytVoyNyuFc"
   },
   "outputs": [],
   "source": [
    "# Read the data\n",
    "data = pd.read_csv('/content/drive/MyDrive/Colab Notebooks/SampleData/dataset.csv')"
   ]
  },
  {
   "cell_type": "code",
   "execution_count": 7,
   "metadata": {
    "colab": {
     "base_uri": "https://localhost:8080/",
     "height": 300
    },
    "executionInfo": {
     "elapsed": 388,
     "status": "ok",
     "timestamp": 1671372907212,
     "user": {
      "displayName": "Shan Thiagarajan",
      "userId": "07848716946087442606"
     },
     "user_tz": -330
    },
    "id": "YLE6gTFlyuFd",
    "outputId": "bc05f214-4c07-4117-eb95-cb3889d96cb0"
   },
   "outputs": [
    {
     "data": {
      "text/html": [
       "\n",
       "  <div id=\"df-15a0be7e-cece-4709-bf8f-7b9f90a0047d\">\n",
       "    <div class=\"colab-df-container\">\n",
       "      <div>\n",
       "<style scoped>\n",
       "    .dataframe tbody tr th:only-of-type {\n",
       "        vertical-align: middle;\n",
       "    }\n",
       "\n",
       "    .dataframe tbody tr th {\n",
       "        vertical-align: top;\n",
       "    }\n",
       "\n",
       "    .dataframe thead th {\n",
       "        text-align: right;\n",
       "    }\n",
       "</style>\n",
       "<table border=\"1\" class=\"dataframe\">\n",
       "  <thead>\n",
       "    <tr style=\"text-align: right;\">\n",
       "      <th></th>\n",
       "      <th>index</th>\n",
       "      <th>having_IPhaving_IP_Address</th>\n",
       "      <th>URLURL_Length</th>\n",
       "      <th>Shortining_Service</th>\n",
       "      <th>having_At_Symbol</th>\n",
       "      <th>double_slash_redirecting</th>\n",
       "      <th>Prefix_Suffix</th>\n",
       "      <th>having_Sub_Domain</th>\n",
       "      <th>SSLfinal_State</th>\n",
       "      <th>Domain_registeration_length</th>\n",
       "      <th>...</th>\n",
       "      <th>popUpWidnow</th>\n",
       "      <th>Iframe</th>\n",
       "      <th>age_of_domain</th>\n",
       "      <th>DNSRecord</th>\n",
       "      <th>web_traffic</th>\n",
       "      <th>Page_Rank</th>\n",
       "      <th>Google_Index</th>\n",
       "      <th>Links_pointing_to_page</th>\n",
       "      <th>Statistical_report</th>\n",
       "      <th>Result</th>\n",
       "    </tr>\n",
       "  </thead>\n",
       "  <tbody>\n",
       "    <tr>\n",
       "      <th>0</th>\n",
       "      <td>1</td>\n",
       "      <td>-1</td>\n",
       "      <td>1</td>\n",
       "      <td>1</td>\n",
       "      <td>1</td>\n",
       "      <td>-1</td>\n",
       "      <td>-1</td>\n",
       "      <td>-1</td>\n",
       "      <td>-1</td>\n",
       "      <td>-1</td>\n",
       "      <td>...</td>\n",
       "      <td>1</td>\n",
       "      <td>1</td>\n",
       "      <td>-1</td>\n",
       "      <td>-1</td>\n",
       "      <td>-1</td>\n",
       "      <td>-1</td>\n",
       "      <td>1</td>\n",
       "      <td>1</td>\n",
       "      <td>-1</td>\n",
       "      <td>-1</td>\n",
       "    </tr>\n",
       "    <tr>\n",
       "      <th>1</th>\n",
       "      <td>2</td>\n",
       "      <td>1</td>\n",
       "      <td>1</td>\n",
       "      <td>1</td>\n",
       "      <td>1</td>\n",
       "      <td>1</td>\n",
       "      <td>-1</td>\n",
       "      <td>0</td>\n",
       "      <td>1</td>\n",
       "      <td>-1</td>\n",
       "      <td>...</td>\n",
       "      <td>1</td>\n",
       "      <td>1</td>\n",
       "      <td>-1</td>\n",
       "      <td>-1</td>\n",
       "      <td>0</td>\n",
       "      <td>-1</td>\n",
       "      <td>1</td>\n",
       "      <td>1</td>\n",
       "      <td>1</td>\n",
       "      <td>-1</td>\n",
       "    </tr>\n",
       "    <tr>\n",
       "      <th>2</th>\n",
       "      <td>3</td>\n",
       "      <td>1</td>\n",
       "      <td>0</td>\n",
       "      <td>1</td>\n",
       "      <td>1</td>\n",
       "      <td>1</td>\n",
       "      <td>-1</td>\n",
       "      <td>-1</td>\n",
       "      <td>-1</td>\n",
       "      <td>-1</td>\n",
       "      <td>...</td>\n",
       "      <td>1</td>\n",
       "      <td>1</td>\n",
       "      <td>1</td>\n",
       "      <td>-1</td>\n",
       "      <td>1</td>\n",
       "      <td>-1</td>\n",
       "      <td>1</td>\n",
       "      <td>0</td>\n",
       "      <td>-1</td>\n",
       "      <td>-1</td>\n",
       "    </tr>\n",
       "    <tr>\n",
       "      <th>3</th>\n",
       "      <td>4</td>\n",
       "      <td>1</td>\n",
       "      <td>0</td>\n",
       "      <td>1</td>\n",
       "      <td>1</td>\n",
       "      <td>1</td>\n",
       "      <td>-1</td>\n",
       "      <td>-1</td>\n",
       "      <td>-1</td>\n",
       "      <td>1</td>\n",
       "      <td>...</td>\n",
       "      <td>1</td>\n",
       "      <td>1</td>\n",
       "      <td>-1</td>\n",
       "      <td>-1</td>\n",
       "      <td>1</td>\n",
       "      <td>-1</td>\n",
       "      <td>1</td>\n",
       "      <td>-1</td>\n",
       "      <td>1</td>\n",
       "      <td>-1</td>\n",
       "    </tr>\n",
       "    <tr>\n",
       "      <th>4</th>\n",
       "      <td>5</td>\n",
       "      <td>1</td>\n",
       "      <td>0</td>\n",
       "      <td>-1</td>\n",
       "      <td>1</td>\n",
       "      <td>1</td>\n",
       "      <td>-1</td>\n",
       "      <td>1</td>\n",
       "      <td>1</td>\n",
       "      <td>-1</td>\n",
       "      <td>...</td>\n",
       "      <td>-1</td>\n",
       "      <td>1</td>\n",
       "      <td>-1</td>\n",
       "      <td>-1</td>\n",
       "      <td>0</td>\n",
       "      <td>-1</td>\n",
       "      <td>1</td>\n",
       "      <td>1</td>\n",
       "      <td>1</td>\n",
       "      <td>1</td>\n",
       "    </tr>\n",
       "  </tbody>\n",
       "</table>\n",
       "<p>5 rows × 32 columns</p>\n",
       "</div>\n",
       "      <button class=\"colab-df-convert\" onclick=\"convertToInteractive('df-15a0be7e-cece-4709-bf8f-7b9f90a0047d')\"\n",
       "              title=\"Convert this dataframe to an interactive table.\"\n",
       "              style=\"display:none;\">\n",
       "        \n",
       "  <svg xmlns=\"http://www.w3.org/2000/svg\" height=\"24px\"viewBox=\"0 0 24 24\"\n",
       "       width=\"24px\">\n",
       "    <path d=\"M0 0h24v24H0V0z\" fill=\"none\"/>\n",
       "    <path d=\"M18.56 5.44l.94 2.06.94-2.06 2.06-.94-2.06-.94-.94-2.06-.94 2.06-2.06.94zm-11 1L8.5 8.5l.94-2.06 2.06-.94-2.06-.94L8.5 2.5l-.94 2.06-2.06.94zm10 10l.94 2.06.94-2.06 2.06-.94-2.06-.94-.94-2.06-.94 2.06-2.06.94z\"/><path d=\"M17.41 7.96l-1.37-1.37c-.4-.4-.92-.59-1.43-.59-.52 0-1.04.2-1.43.59L10.3 9.45l-7.72 7.72c-.78.78-.78 2.05 0 2.83L4 21.41c.39.39.9.59 1.41.59.51 0 1.02-.2 1.41-.59l7.78-7.78 2.81-2.81c.8-.78.8-2.07 0-2.86zM5.41 20L4 18.59l7.72-7.72 1.47 1.35L5.41 20z\"/>\n",
       "  </svg>\n",
       "      </button>\n",
       "      \n",
       "  <style>\n",
       "    .colab-df-container {\n",
       "      display:flex;\n",
       "      flex-wrap:wrap;\n",
       "      gap: 12px;\n",
       "    }\n",
       "\n",
       "    .colab-df-convert {\n",
       "      background-color: #E8F0FE;\n",
       "      border: none;\n",
       "      border-radius: 50%;\n",
       "      cursor: pointer;\n",
       "      display: none;\n",
       "      fill: #1967D2;\n",
       "      height: 32px;\n",
       "      padding: 0 0 0 0;\n",
       "      width: 32px;\n",
       "    }\n",
       "\n",
       "    .colab-df-convert:hover {\n",
       "      background-color: #E2EBFA;\n",
       "      box-shadow: 0px 1px 2px rgba(60, 64, 67, 0.3), 0px 1px 3px 1px rgba(60, 64, 67, 0.15);\n",
       "      fill: #174EA6;\n",
       "    }\n",
       "\n",
       "    [theme=dark] .colab-df-convert {\n",
       "      background-color: #3B4455;\n",
       "      fill: #D2E3FC;\n",
       "    }\n",
       "\n",
       "    [theme=dark] .colab-df-convert:hover {\n",
       "      background-color: #434B5C;\n",
       "      box-shadow: 0px 1px 3px 1px rgba(0, 0, 0, 0.15);\n",
       "      filter: drop-shadow(0px 1px 2px rgba(0, 0, 0, 0.3));\n",
       "      fill: #FFFFFF;\n",
       "    }\n",
       "  </style>\n",
       "\n",
       "      <script>\n",
       "        const buttonEl =\n",
       "          document.querySelector('#df-15a0be7e-cece-4709-bf8f-7b9f90a0047d button.colab-df-convert');\n",
       "        buttonEl.style.display =\n",
       "          google.colab.kernel.accessAllowed ? 'block' : 'none';\n",
       "\n",
       "        async function convertToInteractive(key) {\n",
       "          const element = document.querySelector('#df-15a0be7e-cece-4709-bf8f-7b9f90a0047d');\n",
       "          const dataTable =\n",
       "            await google.colab.kernel.invokeFunction('convertToInteractive',\n",
       "                                                     [key], {});\n",
       "          if (!dataTable) return;\n",
       "\n",
       "          const docLinkHtml = 'Like what you see? Visit the ' +\n",
       "            '<a target=\"_blank\" href=https://colab.research.google.com/notebooks/data_table.ipynb>data table notebook</a>'\n",
       "            + ' to learn more about interactive tables.';\n",
       "          element.innerHTML = '';\n",
       "          dataTable['output_type'] = 'display_data';\n",
       "          await google.colab.output.renderOutput(dataTable, element);\n",
       "          const docLink = document.createElement('div');\n",
       "          docLink.innerHTML = docLinkHtml;\n",
       "          element.appendChild(docLink);\n",
       "        }\n",
       "      </script>\n",
       "    </div>\n",
       "  </div>\n",
       "  "
      ],
      "text/plain": [
       "   index  having_IPhaving_IP_Address  URLURL_Length  Shortining_Service  \\\n",
       "0      1                          -1              1                   1   \n",
       "1      2                           1              1                   1   \n",
       "2      3                           1              0                   1   \n",
       "3      4                           1              0                   1   \n",
       "4      5                           1              0                  -1   \n",
       "\n",
       "   having_At_Symbol  double_slash_redirecting  Prefix_Suffix  \\\n",
       "0                 1                        -1             -1   \n",
       "1                 1                         1             -1   \n",
       "2                 1                         1             -1   \n",
       "3                 1                         1             -1   \n",
       "4                 1                         1             -1   \n",
       "\n",
       "   having_Sub_Domain  SSLfinal_State  Domain_registeration_length  ...  \\\n",
       "0                 -1              -1                           -1  ...   \n",
       "1                  0               1                           -1  ...   \n",
       "2                 -1              -1                           -1  ...   \n",
       "3                 -1              -1                            1  ...   \n",
       "4                  1               1                           -1  ...   \n",
       "\n",
       "   popUpWidnow  Iframe  age_of_domain  DNSRecord  web_traffic  Page_Rank  \\\n",
       "0            1       1             -1         -1           -1         -1   \n",
       "1            1       1             -1         -1            0         -1   \n",
       "2            1       1              1         -1            1         -1   \n",
       "3            1       1             -1         -1            1         -1   \n",
       "4           -1       1             -1         -1            0         -1   \n",
       "\n",
       "   Google_Index  Links_pointing_to_page  Statistical_report  Result  \n",
       "0             1                       1                  -1      -1  \n",
       "1             1                       1                   1      -1  \n",
       "2             1                       0                  -1      -1  \n",
       "3             1                      -1                   1      -1  \n",
       "4             1                       1                   1       1  \n",
       "\n",
       "[5 rows x 32 columns]"
      ]
     },
     "execution_count": 7,
     "metadata": {},
     "output_type": "execute_result"
    }
   ],
   "source": [
    "## Checking some sample data\n",
    "data.head()"
   ]
  },
  {
   "cell_type": "markdown",
   "metadata": {
    "id": "98d0g2QXyuFe"
   },
   "source": [
    "### Based upon the above data, let we understand the columns properly."
   ]
  },
  {
   "cell_type": "markdown",
   "metadata": {
    "id": "mVAMaHYayuFe"
   },
   "source": [
    "## Domain Analysis"
   ]
  },
  {
   "cell_type": "markdown",
   "metadata": {
    "id": "_-ncmkfKyuFe"
   },
   "source": [
    "## URL Components \n",
    "The figure below shows relevant parts in the structure of a typical URL."
   ]
  },
  {
   "cell_type": "markdown",
   "metadata": {
    "id": "YP5Z1A_TyuFf"
   },
   "source": [
    "![Picture1.png](Picture1.png)"
   ]
  },
  {
   "cell_type": "markdown",
   "metadata": {
    "id": "jyda85dMyuFf"
   },
   "source": [
    "### Dataset description\n",
    "There are 4 types of features that we can extract from the URL.<br>\n",
    "\n",
    "Address Bar based Features<br>\n",
    "Abnormal Based Features<br>\n",
    "HTML and JavaScript based Features<br>\n",
    "Domain based Features"
   ]
  },
  {
   "cell_type": "code",
   "execution_count": 10,
   "metadata": {
    "colab": {
     "base_uri": "https://localhost:8080/"
    },
    "executionInfo": {
     "elapsed": 4,
     "status": "ok",
     "timestamp": 1671372998630,
     "user": {
      "displayName": "Shan Thiagarajan",
      "userId": "07848716946087442606"
     },
     "user_tz": -330
    },
    "id": "i1TbvQc7yuFf",
    "outputId": "17f50a98-057c-4520-aff6-c608a372130d"
   },
   "outputs": [
    {
     "name": "stdout",
     "output_type": "stream",
     "text": [
      "<class 'pandas.core.frame.DataFrame'>\n",
      "RangeIndex: 11055 entries, 0 to 11054\n",
      "Data columns (total 32 columns):\n",
      " #   Column                       Non-Null Count  Dtype\n",
      "---  ------                       --------------  -----\n",
      " 0   index                        11055 non-null  int64\n",
      " 1   having_IPhaving_IP_Address   11055 non-null  int64\n",
      " 2   URLURL_Length                11055 non-null  int64\n",
      " 3   Shortining_Service           11055 non-null  int64\n",
      " 4   having_At_Symbol             11055 non-null  int64\n",
      " 5   double_slash_redirecting     11055 non-null  int64\n",
      " 6   Prefix_Suffix                11055 non-null  int64\n",
      " 7   having_Sub_Domain            11055 non-null  int64\n",
      " 8   SSLfinal_State               11055 non-null  int64\n",
      " 9   Domain_registeration_length  11055 non-null  int64\n",
      " 10  Favicon                      11055 non-null  int64\n",
      " 11  port                         11055 non-null  int64\n",
      " 12  HTTPS_token                  11055 non-null  int64\n",
      " 13  Request_URL                  11055 non-null  int64\n",
      " 14  URL_of_Anchor                11055 non-null  int64\n",
      " 15  Links_in_tags                11055 non-null  int64\n",
      " 16  SFH                          11055 non-null  int64\n",
      " 17  Submitting_to_email          11055 non-null  int64\n",
      " 18  Abnormal_URL                 11055 non-null  int64\n",
      " 19  Redirect                     11055 non-null  int64\n",
      " 20  on_mouseover                 11055 non-null  int64\n",
      " 21  RightClick                   11055 non-null  int64\n",
      " 22  popUpWidnow                  11055 non-null  int64\n",
      " 23  Iframe                       11055 non-null  int64\n",
      " 24  age_of_domain                11055 non-null  int64\n",
      " 25  DNSRecord                    11055 non-null  int64\n",
      " 26  web_traffic                  11055 non-null  int64\n",
      " 27  Page_Rank                    11055 non-null  int64\n",
      " 28  Google_Index                 11055 non-null  int64\n",
      " 29  Links_pointing_to_page       11055 non-null  int64\n",
      " 30  Statistical_report           11055 non-null  int64\n",
      " 31  Result                       11055 non-null  int64\n",
      "dtypes: int64(32)\n",
      "memory usage: 2.7 MB\n"
     ]
    }
   ],
   "source": [
    "data.info()"
   ]
  },
  {
   "cell_type": "code",
   "execution_count": 9,
   "metadata": {
    "colab": {
     "base_uri": "https://localhost:8080/"
    },
    "executionInfo": {
     "elapsed": 361,
     "status": "ok",
     "timestamp": 1671372982991,
     "user": {
      "displayName": "Shan Thiagarajan",
      "userId": "07848716946087442606"
     },
     "user_tz": -330
    },
    "id": "nF28OuSCyuFf",
    "outputId": "5be4cd4e-c3ca-4054-e544-485b16d80bcd"
   },
   "outputs": [
    {
     "data": {
      "text/plain": [
       "Index(['index', 'having_IPhaving_IP_Address', 'URLURL_Length',\n",
       "       'Shortining_Service', 'having_At_Symbol', 'double_slash_redirecting',\n",
       "       'Prefix_Suffix', 'having_Sub_Domain', 'SSLfinal_State',\n",
       "       'Domain_registeration_length', 'Favicon', 'port', 'HTTPS_token',\n",
       "       'Request_URL', 'URL_of_Anchor', 'Links_in_tags', 'SFH',\n",
       "       'Submitting_to_email', 'Abnormal_URL', 'Redirect', 'on_mouseover',\n",
       "       'RightClick', 'popUpWidnow', 'Iframe', 'age_of_domain', 'DNSRecord',\n",
       "       'web_traffic', 'Page_Rank', 'Google_Index', 'Links_pointing_to_page',\n",
       "       'Statistical_report', 'Result'],\n",
       "      dtype='object')"
      ]
     },
     "execution_count": 9,
     "metadata": {},
     "output_type": "execute_result"
    }
   ],
   "source": [
    "data.columns"
   ]
  },
  {
   "cell_type": "markdown",
   "metadata": {
    "id": "TZHoWPr4yuFg"
   },
   "source": [
    "***This markdown refer to Phishing website features to get details about the each features of our data***"
   ]
  },
  {
   "cell_type": "markdown",
   "metadata": {
    "id": "EpHZeRxyyuFg"
   },
   "source": [
    "### Let we understand about our data features"
   ]
  },
  {
   "cell_type": "markdown",
   "metadata": {
    "id": "Jya-KeYIyuFg"
   },
   "source": [
    "1) **having_IPhaving_IP_Address:** If the IP address is used, the indication might be the URL trying to trick user and steal some information.<br>\n",
    "If domain have IP address then-> Phishing(-1)<br>\n",
    "Else-> Legitimate (1)<br>\n",
    "2) **URL_Length:** Many times phisher may hide suspecious information in URL itself, if the URL is of very long size.<br>\n",
    "So, if URL length < 54 -> Legitimate (1)<br>\n",
    "URL length 54 to 75 -> suspecious (0)<br>\n",
    "Else -> Phishing(-1)<br>\n",
    "3) **Shortining_ServiceShortining_Service:** Using HTTP redifrect short url could also lead to phishing websites.<br>\n",
    "Tiny URL-> -1<br>\n",
    "Else -> 1<br>\n",
    "4) **having_At_Symbol:** URL with @ symbol -> -1 else 1<br>\n",
    "5) **double_slash_redirecting:** doble slash means user may redirected to another website. Like <br>```https://safeurl.com//phishingURL.com``` So, // -> -1 else 1<br>\n",
    "6) **Prefix_Suffix:** Dash is rarely used in URL. So, presence of (-) -> -1 else 1<br>\n",
    "7) **having_Sub_Domain:** If the URL have one sub domain like one dot it means its legitimate, if more than 1 or less than 2 it means suspecious else phishing.<br>\n",
    "8) **SSLfinal_State:** We can also check the age of certificate installed. So if the age is more than 1 year legitimate (1), if https and Isuuer not trusted then suspecious(0) else Phishing(-1)<br>\n",
    "9) **Domain_registeration_length:** If the domain expired within 1 year it means phishing else legitimate.<br>\n",
    "10) **Favicon:** Fevicon is the graphical image in specific webpage. If the fevicon is from other source then it is phishing else legitimate.<br>\n",
    "11) **Port:** If the ports are open phishers can attack your system with any system they want. So Port number is of preferred status -> Phishing else -> Legitimate<br>\n",
    "12) **HTTPS_token:** Like url ```http://https-www.safe-url.com``` In such URL phishers may want to trick user so http taken url is phishing else legitimate.<br>\n",
    "13) **Request_URL:** In safe url most of the object embedded in same URL. So, % of request URL < 22% -> legitimate (1)  if 22 to 61 % then suspecious else Phishing.<br>\n",
    "14) **URL_of_Anchor:** In this we check ```<a>``` If this tag contains different domain then this is same as Request URL.So,\n",
    "% of URL of anchors < 31% -> Legitimate<br>\n",
    "Between 31 to 67 -> suspecious<br>\n",
    "Else -> Phishing<br>\n",
    "15) **Links_in_tags:** % of Links in ```\"<Meta>\",\"<Script>\" and \"<\"Link>\\\"\"```<17%  → Legitimate,<br>\n",
    "% of Links in ```<Meta>\",\"<Script>\" and \"<\"Link>\\\"\" ≥17% And≤81%``` → Suspicious<br>\n",
    "Else-> Phishing<br>\n",
    "16) **SFH:** SFH is \"about: blank\\\"\" Or Is Empty → Phishing (-1) <br>\n",
    "SFH \"Refers To \" A Different Domain→ Suspicious (0) <br>\n",
    "Else -> 1<br>\n",
    "17) **Submitting_to_email:** Webform may ask user to submit information that is directed to a server for processing. So, Using <br>```\"mail()\\\" or \\\"mailto:\\\" Function to Submit User Information\"```→ Phishing else -> Legitimate.<br>\n",
    "18) **Abnormal_URL:** The Host Name Is Not Included In URL → Phishing, Else -> legitimate.<br>\n",
    "19) **Redirect:** It is how many times a URL is redirected to other URL. ofRedirect Page≤1 → Legitimate,of Redirect Page≥2 <br> &And<4→ Suspicious, else -> Phishing.<br>\n",
    "20) **RightClick:** Sometime if the right click is diabled is becuase phisher don't want you to open any tab.<br>\n",
    "Right Click Disabled → Phishing <br>\n",
    "Otherwise→Legitimate<br>\n",
    "21) **on_mouseover:** MouseOver Changes Status Bar→ Phishing, Does't Change Status Bar→Legitimate<br>\n",
    "22) **popUpWidnow:** Popoup window asks for text fields → Phishing, Else -> legitimate<br>\n",
    "23) **Iframe:** If the HTML tag use to show aditional webpage, phisher can use iframe tag. Using iframe→ Phishing <br>\n",
    "Else -> Legitimate<br>\n",
    "24) **age_of_domain:** Age of domain > 6 months Legitimate, else-> Phishing<br>\n",
    "25) **DNSRecord:** No DNS record -> Phishing, Else -> legitimate<br>\n",
    "26) **web_traffic:** This feature use to test popularity of the websites. Website Rank<100,000 → Legitimate, if Website <br>Rank>100,000 →Suspicious, else -> Phishing<br>\n",
    "27) **Page_Rank:** Page range is how important a webpage is for internet. PageRank<0.2 → Phishing, Otherwise → Legitimate<br>\n",
    "28) **Google_Index:**  This feature is whether is website is coming in google index or not. Webpage Indexed by <br>Google → Legitimate, else -> Phishing<br>\n",
    "29) **Links_pointing_to_page:** Webpage Indexed by Google → Legitimate, Webpage Indexed by Google → Legitimate, else -> legitimate<br>\n",
    "30) **Statistical_report:** Host Belongs to Top Phishing IPs or Top Phishing Domains -> phishing, else -> legitimate<br>\n",
    "31) **Result:** It is the actual value which suggest us whather the URL is phishing or legitimate based upon the feature we have.  This is out Target Column.<br>"
   ]
  },
  {
   "cell_type": "code",
   "execution_count": 17,
   "metadata": {
    "colab": {
     "base_uri": "https://localhost:8080/"
    },
    "executionInfo": {
     "elapsed": 2,
     "status": "ok",
     "timestamp": 1671373495019,
     "user": {
      "displayName": "Shan Thiagarajan",
      "userId": "07848716946087442606"
     },
     "user_tz": -330
    },
    "id": "8P1OGzv2n4D_",
    "outputId": "2b0f4ffd-7648-4e30-debf-7e61765ad5bb"
   },
   "outputs": [
    {
     "data": {
      "text/plain": [
       "Index(['index', 'having_IPhaving_IP_Address', 'URLURL_Length',\n",
       "       'Shortining_Service', 'having_At_Symbol', 'double_slash_redirecting',\n",
       "       'Prefix_Suffix', 'having_Sub_Domain', 'SSLfinal_State',\n",
       "       'Domain_registeration_length', 'Favicon', 'port', 'HTTPS_token',\n",
       "       'Request_URL', 'URL_of_Anchor', 'Links_in_tags', 'SFH',\n",
       "       'Submitting_to_email', 'Abnormal_URL', 'Redirect', 'on_mouseover',\n",
       "       'RightClick', 'popUpWidnow', 'Iframe', 'age_of_domain', 'DNSRecord',\n",
       "       'web_traffic', 'Page_Rank', 'Google_Index', 'Links_pointing_to_page',\n",
       "       'Statistical_report', 'Result'],\n",
       "      dtype='object')"
      ]
     },
     "execution_count": 17,
     "metadata": {},
     "output_type": "execute_result"
    }
   ],
   "source": [
    "data.columns"
   ]
  },
  {
   "cell_type": "code",
   "execution_count": 11,
   "metadata": {
    "colab": {
     "base_uri": "https://localhost:8080/"
    },
    "executionInfo": {
     "elapsed": 355,
     "status": "ok",
     "timestamp": 1671373144185,
     "user": {
      "displayName": "Shan Thiagarajan",
      "userId": "07848716946087442606"
     },
     "user_tz": -330
    },
    "id": "bBQWP1VmmPtI",
    "outputId": "efc4aef9-4c34-4eb3-93b6-e4b2b321e806"
   },
   "outputs": [
    {
     "data": {
      "text/plain": [
       "(11055, 32)"
      ]
     },
     "execution_count": 11,
     "metadata": {},
     "output_type": "execute_result"
    }
   ],
   "source": [
    "## Number of samples and features\n",
    "data.shape"
   ]
  },
  {
   "cell_type": "markdown",
   "metadata": {
    "id": "9hTzZG3tyuFh"
   },
   "source": [
    "The data set has 11055 samples and 32 features.  \n",
    "\n",
    "Let we check the unique value in each columns in the data\n",
    "\n",
    "Displaying all unique elements if the column has less than or equal to 10 unique elements.  Othewise, only printing the number of unique elements.\n",
    " "
   ]
  },
  {
   "cell_type": "code",
   "execution_count": 19,
   "metadata": {
    "colab": {
     "base_uri": "https://localhost:8080/"
    },
    "executionInfo": {
     "elapsed": 368,
     "status": "ok",
     "timestamp": 1671373639151,
     "user": {
      "displayName": "Shan Thiagarajan",
      "userId": "07848716946087442606"
     },
     "user_tz": -330
    },
    "id": "beoY3ifbnyb_",
    "outputId": "aa3d77c6-8e95-4d53-9966-cd5a1ce9db56"
   },
   "outputs": [
    {
     "name": "stdout",
     "output_type": "stream",
     "text": [
      "Unique elements in Result Column:  [-1  1]\n",
      "Length of Unique elements in Result column: 2\n"
     ]
    }
   ],
   "source": [
    "print(\"Unique elements in Result Column: \", data.Result.unique())\n",
    "print(\"Length of Unique elements in Result column:\",data.Result.nunique())"
   ]
  },
  {
   "cell_type": "code",
   "execution_count": 13,
   "metadata": {
    "colab": {
     "base_uri": "https://localhost:8080/"
    },
    "executionInfo": {
     "elapsed": 385,
     "status": "ok",
     "timestamp": 1671373250662,
     "user": {
      "displayName": "Shan Thiagarajan",
      "userId": "07848716946087442606"
     },
     "user_tz": -330
    },
    "id": "diplTERAyuFh",
    "outputId": "e1c68539-b40f-4f8a-f2a5-976e10d46f64"
   },
   "outputs": [
    {
     "name": "stdout",
     "output_type": "stream",
     "text": [
      "index has 11055 unique values\n",
      "having_IPhaving_IP_Address contains:\t\t\t[-1  1]\n",
      "URLURL_Length contains:\t\t\t[ 1  0 -1]\n",
      "Shortining_Service contains:\t\t\t[ 1 -1]\n",
      "having_At_Symbol contains:\t\t\t[ 1 -1]\n",
      "double_slash_redirecting contains:\t\t\t[-1  1]\n",
      "Prefix_Suffix contains:\t\t\t[-1  1]\n",
      "having_Sub_Domain contains:\t\t\t[-1  0  1]\n",
      "SSLfinal_State contains:\t\t\t[-1  1  0]\n",
      "Domain_registeration_length contains:\t\t\t[-1  1]\n",
      "Favicon contains:\t\t\t[ 1 -1]\n",
      "port contains:\t\t\t[ 1 -1]\n",
      "HTTPS_token contains:\t\t\t[-1  1]\n",
      "Request_URL contains:\t\t\t[ 1 -1]\n",
      "URL_of_Anchor contains:\t\t\t[-1  0  1]\n",
      "Links_in_tags contains:\t\t\t[ 1 -1  0]\n",
      "SFH contains:\t\t\t[-1  1  0]\n",
      "Submitting_to_email contains:\t\t\t[-1  1]\n",
      "Abnormal_URL contains:\t\t\t[-1  1]\n",
      "Redirect contains:\t\t\t[0 1]\n",
      "on_mouseover contains:\t\t\t[ 1 -1]\n",
      "RightClick contains:\t\t\t[ 1 -1]\n",
      "popUpWidnow contains:\t\t\t[ 1 -1]\n",
      "Iframe contains:\t\t\t[ 1 -1]\n",
      "age_of_domain contains:\t\t\t[-1  1]\n",
      "DNSRecord contains:\t\t\t[-1  1]\n",
      "web_traffic contains:\t\t\t[-1  0  1]\n",
      "Page_Rank contains:\t\t\t[-1  1]\n",
      "Google_Index contains:\t\t\t[ 1 -1]\n",
      "Links_pointing_to_page contains:\t\t\t[ 1  0 -1]\n",
      "Statistical_report contains:\t\t\t[-1  1]\n",
      "Result contains:\t\t\t[-1  1]\n"
     ]
    }
   ],
   "source": [
    "## Displaying all unique elements if the column has less than or equal to 10 unique elements.  \n",
    "## Othewise, only printing the number of unique elements.\n",
    " \n",
    "for col in data.columns:\n",
    "    unique_value_list = data[col].unique()\n",
    "    if len(unique_value_list) > 10:\n",
    "        print(f'{col} has {data[col].nunique()} unique values')\n",
    "    else:\n",
    "        print(f'{col} contains:\\t\\t\\t{unique_value_list}')"
   ]
  },
  {
   "cell_type": "markdown",
   "metadata": {
    "id": "Q4UjpUKjnaQc"
   },
   "source": [
    "#### Checking the missing values"
   ]
  },
  {
   "cell_type": "code",
   "execution_count": 14,
   "metadata": {
    "colab": {
     "base_uri": "https://localhost:8080/"
    },
    "executionInfo": {
     "elapsed": 594,
     "status": "ok",
     "timestamp": 1671373389560,
     "user": {
      "displayName": "Shan Thiagarajan",
      "userId": "07848716946087442606"
     },
     "user_tz": -330
    },
    "id": "tznM9jKTndxA",
    "outputId": "2f86827f-4484-433f-8e46-9846fdc7edd2"
   },
   "outputs": [
    {
     "data": {
      "text/plain": [
       "index                          0\n",
       "having_IPhaving_IP_Address     0\n",
       "URLURL_Length                  0\n",
       "Shortining_Service             0\n",
       "having_At_Symbol               0\n",
       "double_slash_redirecting       0\n",
       "Prefix_Suffix                  0\n",
       "having_Sub_Domain              0\n",
       "SSLfinal_State                 0\n",
       "Domain_registeration_length    0\n",
       "Favicon                        0\n",
       "port                           0\n",
       "HTTPS_token                    0\n",
       "Request_URL                    0\n",
       "URL_of_Anchor                  0\n",
       "Links_in_tags                  0\n",
       "SFH                            0\n",
       "Submitting_to_email            0\n",
       "Abnormal_URL                   0\n",
       "Redirect                       0\n",
       "on_mouseover                   0\n",
       "RightClick                     0\n",
       "popUpWidnow                    0\n",
       "Iframe                         0\n",
       "age_of_domain                  0\n",
       "DNSRecord                      0\n",
       "web_traffic                    0\n",
       "Page_Rank                      0\n",
       "Google_Index                   0\n",
       "Links_pointing_to_page         0\n",
       "Statistical_report             0\n",
       "Result                         0\n",
       "dtype: int64"
      ]
     },
     "execution_count": 14,
     "metadata": {},
     "output_type": "execute_result"
    }
   ],
   "source": [
    "data.isnull().sum()"
   ]
  },
  {
   "cell_type": "markdown",
   "metadata": {
    "id": "TvdRcCkpyuFi"
   },
   "source": [
    "No missing values found, so no need to drop or replace any value"
   ]
  },
  {
   "cell_type": "markdown",
   "metadata": {
    "id": "SfTyqFHSyuFi"
   },
   "source": [
    "**According to the Data descrition, these are the meaning of the values in the data**\n",
    "<br>\n",
    "1 means legitimate<br>\n",
    "0 is suspicious<br>\n",
    "-1 is phishing<br>"
   ]
  },
  {
   "cell_type": "code",
   "execution_count": 20,
   "metadata": {
    "colab": {
     "base_uri": "https://localhost:8080/",
     "height": 394
    },
    "executionInfo": {
     "elapsed": 4,
     "status": "ok",
     "timestamp": 1671373874153,
     "user": {
      "displayName": "Shan Thiagarajan",
      "userId": "07848716946087442606"
     },
     "user_tz": -330
    },
    "id": "18MH6XlAyuFi",
    "outputId": "c7572299-baab-4b3a-a059-43477873bd55"
   },
   "outputs": [
    {
     "data": {
      "text/html": [
       "\n",
       "  <div id=\"df-44c7ee17-8fd2-4cee-9601-88a2d0a3bb6c\">\n",
       "    <div class=\"colab-df-container\">\n",
       "      <div>\n",
       "<style scoped>\n",
       "    .dataframe tbody tr th:only-of-type {\n",
       "        vertical-align: middle;\n",
       "    }\n",
       "\n",
       "    .dataframe tbody tr th {\n",
       "        vertical-align: top;\n",
       "    }\n",
       "\n",
       "    .dataframe thead th {\n",
       "        text-align: right;\n",
       "    }\n",
       "</style>\n",
       "<table border=\"1\" class=\"dataframe\">\n",
       "  <thead>\n",
       "    <tr style=\"text-align: right;\">\n",
       "      <th></th>\n",
       "      <th>index</th>\n",
       "      <th>having_IPhaving_IP_Address</th>\n",
       "      <th>URLURL_Length</th>\n",
       "      <th>Shortining_Service</th>\n",
       "      <th>having_At_Symbol</th>\n",
       "      <th>double_slash_redirecting</th>\n",
       "      <th>Prefix_Suffix</th>\n",
       "      <th>having_Sub_Domain</th>\n",
       "      <th>SSLfinal_State</th>\n",
       "      <th>Domain_registeration_length</th>\n",
       "      <th>...</th>\n",
       "      <th>popUpWidnow</th>\n",
       "      <th>Iframe</th>\n",
       "      <th>age_of_domain</th>\n",
       "      <th>DNSRecord</th>\n",
       "      <th>web_traffic</th>\n",
       "      <th>Page_Rank</th>\n",
       "      <th>Google_Index</th>\n",
       "      <th>Links_pointing_to_page</th>\n",
       "      <th>Statistical_report</th>\n",
       "      <th>Result</th>\n",
       "    </tr>\n",
       "  </thead>\n",
       "  <tbody>\n",
       "    <tr>\n",
       "      <th>count</th>\n",
       "      <td>11055.000000</td>\n",
       "      <td>11055.000000</td>\n",
       "      <td>11055.000000</td>\n",
       "      <td>11055.000000</td>\n",
       "      <td>11055.000000</td>\n",
       "      <td>11055.000000</td>\n",
       "      <td>11055.000000</td>\n",
       "      <td>11055.000000</td>\n",
       "      <td>11055.000000</td>\n",
       "      <td>11055.000000</td>\n",
       "      <td>...</td>\n",
       "      <td>11055.000000</td>\n",
       "      <td>11055.000000</td>\n",
       "      <td>11055.000000</td>\n",
       "      <td>11055.000000</td>\n",
       "      <td>11055.000000</td>\n",
       "      <td>11055.000000</td>\n",
       "      <td>11055.000000</td>\n",
       "      <td>11055.000000</td>\n",
       "      <td>11055.000000</td>\n",
       "      <td>11055.000000</td>\n",
       "    </tr>\n",
       "    <tr>\n",
       "      <th>mean</th>\n",
       "      <td>5528.000000</td>\n",
       "      <td>0.313795</td>\n",
       "      <td>-0.633198</td>\n",
       "      <td>0.738761</td>\n",
       "      <td>0.700588</td>\n",
       "      <td>0.741474</td>\n",
       "      <td>-0.734962</td>\n",
       "      <td>0.063953</td>\n",
       "      <td>0.250927</td>\n",
       "      <td>-0.336771</td>\n",
       "      <td>...</td>\n",
       "      <td>0.613388</td>\n",
       "      <td>0.816915</td>\n",
       "      <td>0.061239</td>\n",
       "      <td>0.377114</td>\n",
       "      <td>0.287291</td>\n",
       "      <td>-0.483673</td>\n",
       "      <td>0.721574</td>\n",
       "      <td>0.344007</td>\n",
       "      <td>0.719584</td>\n",
       "      <td>0.113885</td>\n",
       "    </tr>\n",
       "    <tr>\n",
       "      <th>std</th>\n",
       "      <td>3191.447947</td>\n",
       "      <td>0.949534</td>\n",
       "      <td>0.766095</td>\n",
       "      <td>0.673998</td>\n",
       "      <td>0.713598</td>\n",
       "      <td>0.671011</td>\n",
       "      <td>0.678139</td>\n",
       "      <td>0.817518</td>\n",
       "      <td>0.911892</td>\n",
       "      <td>0.941629</td>\n",
       "      <td>...</td>\n",
       "      <td>0.789818</td>\n",
       "      <td>0.576784</td>\n",
       "      <td>0.998168</td>\n",
       "      <td>0.926209</td>\n",
       "      <td>0.827733</td>\n",
       "      <td>0.875289</td>\n",
       "      <td>0.692369</td>\n",
       "      <td>0.569944</td>\n",
       "      <td>0.694437</td>\n",
       "      <td>0.993539</td>\n",
       "    </tr>\n",
       "    <tr>\n",
       "      <th>min</th>\n",
       "      <td>1.000000</td>\n",
       "      <td>-1.000000</td>\n",
       "      <td>-1.000000</td>\n",
       "      <td>-1.000000</td>\n",
       "      <td>-1.000000</td>\n",
       "      <td>-1.000000</td>\n",
       "      <td>-1.000000</td>\n",
       "      <td>-1.000000</td>\n",
       "      <td>-1.000000</td>\n",
       "      <td>-1.000000</td>\n",
       "      <td>...</td>\n",
       "      <td>-1.000000</td>\n",
       "      <td>-1.000000</td>\n",
       "      <td>-1.000000</td>\n",
       "      <td>-1.000000</td>\n",
       "      <td>-1.000000</td>\n",
       "      <td>-1.000000</td>\n",
       "      <td>-1.000000</td>\n",
       "      <td>-1.000000</td>\n",
       "      <td>-1.000000</td>\n",
       "      <td>-1.000000</td>\n",
       "    </tr>\n",
       "    <tr>\n",
       "      <th>25%</th>\n",
       "      <td>2764.500000</td>\n",
       "      <td>-1.000000</td>\n",
       "      <td>-1.000000</td>\n",
       "      <td>1.000000</td>\n",
       "      <td>1.000000</td>\n",
       "      <td>1.000000</td>\n",
       "      <td>-1.000000</td>\n",
       "      <td>-1.000000</td>\n",
       "      <td>-1.000000</td>\n",
       "      <td>-1.000000</td>\n",
       "      <td>...</td>\n",
       "      <td>1.000000</td>\n",
       "      <td>1.000000</td>\n",
       "      <td>-1.000000</td>\n",
       "      <td>-1.000000</td>\n",
       "      <td>0.000000</td>\n",
       "      <td>-1.000000</td>\n",
       "      <td>1.000000</td>\n",
       "      <td>0.000000</td>\n",
       "      <td>1.000000</td>\n",
       "      <td>-1.000000</td>\n",
       "    </tr>\n",
       "    <tr>\n",
       "      <th>50%</th>\n",
       "      <td>5528.000000</td>\n",
       "      <td>1.000000</td>\n",
       "      <td>-1.000000</td>\n",
       "      <td>1.000000</td>\n",
       "      <td>1.000000</td>\n",
       "      <td>1.000000</td>\n",
       "      <td>-1.000000</td>\n",
       "      <td>0.000000</td>\n",
       "      <td>1.000000</td>\n",
       "      <td>-1.000000</td>\n",
       "      <td>...</td>\n",
       "      <td>1.000000</td>\n",
       "      <td>1.000000</td>\n",
       "      <td>1.000000</td>\n",
       "      <td>1.000000</td>\n",
       "      <td>1.000000</td>\n",
       "      <td>-1.000000</td>\n",
       "      <td>1.000000</td>\n",
       "      <td>0.000000</td>\n",
       "      <td>1.000000</td>\n",
       "      <td>1.000000</td>\n",
       "    </tr>\n",
       "    <tr>\n",
       "      <th>75%</th>\n",
       "      <td>8291.500000</td>\n",
       "      <td>1.000000</td>\n",
       "      <td>-1.000000</td>\n",
       "      <td>1.000000</td>\n",
       "      <td>1.000000</td>\n",
       "      <td>1.000000</td>\n",
       "      <td>-1.000000</td>\n",
       "      <td>1.000000</td>\n",
       "      <td>1.000000</td>\n",
       "      <td>1.000000</td>\n",
       "      <td>...</td>\n",
       "      <td>1.000000</td>\n",
       "      <td>1.000000</td>\n",
       "      <td>1.000000</td>\n",
       "      <td>1.000000</td>\n",
       "      <td>1.000000</td>\n",
       "      <td>1.000000</td>\n",
       "      <td>1.000000</td>\n",
       "      <td>1.000000</td>\n",
       "      <td>1.000000</td>\n",
       "      <td>1.000000</td>\n",
       "    </tr>\n",
       "    <tr>\n",
       "      <th>max</th>\n",
       "      <td>11055.000000</td>\n",
       "      <td>1.000000</td>\n",
       "      <td>1.000000</td>\n",
       "      <td>1.000000</td>\n",
       "      <td>1.000000</td>\n",
       "      <td>1.000000</td>\n",
       "      <td>1.000000</td>\n",
       "      <td>1.000000</td>\n",
       "      <td>1.000000</td>\n",
       "      <td>1.000000</td>\n",
       "      <td>...</td>\n",
       "      <td>1.000000</td>\n",
       "      <td>1.000000</td>\n",
       "      <td>1.000000</td>\n",
       "      <td>1.000000</td>\n",
       "      <td>1.000000</td>\n",
       "      <td>1.000000</td>\n",
       "      <td>1.000000</td>\n",
       "      <td>1.000000</td>\n",
       "      <td>1.000000</td>\n",
       "      <td>1.000000</td>\n",
       "    </tr>\n",
       "  </tbody>\n",
       "</table>\n",
       "<p>8 rows × 32 columns</p>\n",
       "</div>\n",
       "      <button class=\"colab-df-convert\" onclick=\"convertToInteractive('df-44c7ee17-8fd2-4cee-9601-88a2d0a3bb6c')\"\n",
       "              title=\"Convert this dataframe to an interactive table.\"\n",
       "              style=\"display:none;\">\n",
       "        \n",
       "  <svg xmlns=\"http://www.w3.org/2000/svg\" height=\"24px\"viewBox=\"0 0 24 24\"\n",
       "       width=\"24px\">\n",
       "    <path d=\"M0 0h24v24H0V0z\" fill=\"none\"/>\n",
       "    <path d=\"M18.56 5.44l.94 2.06.94-2.06 2.06-.94-2.06-.94-.94-2.06-.94 2.06-2.06.94zm-11 1L8.5 8.5l.94-2.06 2.06-.94-2.06-.94L8.5 2.5l-.94 2.06-2.06.94zm10 10l.94 2.06.94-2.06 2.06-.94-2.06-.94-.94-2.06-.94 2.06-2.06.94z\"/><path d=\"M17.41 7.96l-1.37-1.37c-.4-.4-.92-.59-1.43-.59-.52 0-1.04.2-1.43.59L10.3 9.45l-7.72 7.72c-.78.78-.78 2.05 0 2.83L4 21.41c.39.39.9.59 1.41.59.51 0 1.02-.2 1.41-.59l7.78-7.78 2.81-2.81c.8-.78.8-2.07 0-2.86zM5.41 20L4 18.59l7.72-7.72 1.47 1.35L5.41 20z\"/>\n",
       "  </svg>\n",
       "      </button>\n",
       "      \n",
       "  <style>\n",
       "    .colab-df-container {\n",
       "      display:flex;\n",
       "      flex-wrap:wrap;\n",
       "      gap: 12px;\n",
       "    }\n",
       "\n",
       "    .colab-df-convert {\n",
       "      background-color: #E8F0FE;\n",
       "      border: none;\n",
       "      border-radius: 50%;\n",
       "      cursor: pointer;\n",
       "      display: none;\n",
       "      fill: #1967D2;\n",
       "      height: 32px;\n",
       "      padding: 0 0 0 0;\n",
       "      width: 32px;\n",
       "    }\n",
       "\n",
       "    .colab-df-convert:hover {\n",
       "      background-color: #E2EBFA;\n",
       "      box-shadow: 0px 1px 2px rgba(60, 64, 67, 0.3), 0px 1px 3px 1px rgba(60, 64, 67, 0.15);\n",
       "      fill: #174EA6;\n",
       "    }\n",
       "\n",
       "    [theme=dark] .colab-df-convert {\n",
       "      background-color: #3B4455;\n",
       "      fill: #D2E3FC;\n",
       "    }\n",
       "\n",
       "    [theme=dark] .colab-df-convert:hover {\n",
       "      background-color: #434B5C;\n",
       "      box-shadow: 0px 1px 3px 1px rgba(0, 0, 0, 0.15);\n",
       "      filter: drop-shadow(0px 1px 2px rgba(0, 0, 0, 0.3));\n",
       "      fill: #FFFFFF;\n",
       "    }\n",
       "  </style>\n",
       "\n",
       "      <script>\n",
       "        const buttonEl =\n",
       "          document.querySelector('#df-44c7ee17-8fd2-4cee-9601-88a2d0a3bb6c button.colab-df-convert');\n",
       "        buttonEl.style.display =\n",
       "          google.colab.kernel.accessAllowed ? 'block' : 'none';\n",
       "\n",
       "        async function convertToInteractive(key) {\n",
       "          const element = document.querySelector('#df-44c7ee17-8fd2-4cee-9601-88a2d0a3bb6c');\n",
       "          const dataTable =\n",
       "            await google.colab.kernel.invokeFunction('convertToInteractive',\n",
       "                                                     [key], {});\n",
       "          if (!dataTable) return;\n",
       "\n",
       "          const docLinkHtml = 'Like what you see? Visit the ' +\n",
       "            '<a target=\"_blank\" href=https://colab.research.google.com/notebooks/data_table.ipynb>data table notebook</a>'\n",
       "            + ' to learn more about interactive tables.';\n",
       "          element.innerHTML = '';\n",
       "          dataTable['output_type'] = 'display_data';\n",
       "          await google.colab.output.renderOutput(dataTable, element);\n",
       "          const docLink = document.createElement('div');\n",
       "          docLink.innerHTML = docLinkHtml;\n",
       "          element.appendChild(docLink);\n",
       "        }\n",
       "      </script>\n",
       "    </div>\n",
       "  </div>\n",
       "  "
      ],
      "text/plain": [
       "              index  having_IPhaving_IP_Address  URLURL_Length  \\\n",
       "count  11055.000000                11055.000000   11055.000000   \n",
       "mean    5528.000000                    0.313795      -0.633198   \n",
       "std     3191.447947                    0.949534       0.766095   \n",
       "min        1.000000                   -1.000000      -1.000000   \n",
       "25%     2764.500000                   -1.000000      -1.000000   \n",
       "50%     5528.000000                    1.000000      -1.000000   \n",
       "75%     8291.500000                    1.000000      -1.000000   \n",
       "max    11055.000000                    1.000000       1.000000   \n",
       "\n",
       "       Shortining_Service  having_At_Symbol  double_slash_redirecting  \\\n",
       "count        11055.000000      11055.000000              11055.000000   \n",
       "mean             0.738761          0.700588                  0.741474   \n",
       "std              0.673998          0.713598                  0.671011   \n",
       "min             -1.000000         -1.000000                 -1.000000   \n",
       "25%              1.000000          1.000000                  1.000000   \n",
       "50%              1.000000          1.000000                  1.000000   \n",
       "75%              1.000000          1.000000                  1.000000   \n",
       "max              1.000000          1.000000                  1.000000   \n",
       "\n",
       "       Prefix_Suffix  having_Sub_Domain  SSLfinal_State  \\\n",
       "count   11055.000000       11055.000000    11055.000000   \n",
       "mean       -0.734962           0.063953        0.250927   \n",
       "std         0.678139           0.817518        0.911892   \n",
       "min        -1.000000          -1.000000       -1.000000   \n",
       "25%        -1.000000          -1.000000       -1.000000   \n",
       "50%        -1.000000           0.000000        1.000000   \n",
       "75%        -1.000000           1.000000        1.000000   \n",
       "max         1.000000           1.000000        1.000000   \n",
       "\n",
       "       Domain_registeration_length  ...   popUpWidnow        Iframe  \\\n",
       "count                 11055.000000  ...  11055.000000  11055.000000   \n",
       "mean                     -0.336771  ...      0.613388      0.816915   \n",
       "std                       0.941629  ...      0.789818      0.576784   \n",
       "min                      -1.000000  ...     -1.000000     -1.000000   \n",
       "25%                      -1.000000  ...      1.000000      1.000000   \n",
       "50%                      -1.000000  ...      1.000000      1.000000   \n",
       "75%                       1.000000  ...      1.000000      1.000000   \n",
       "max                       1.000000  ...      1.000000      1.000000   \n",
       "\n",
       "       age_of_domain     DNSRecord   web_traffic     Page_Rank  Google_Index  \\\n",
       "count   11055.000000  11055.000000  11055.000000  11055.000000  11055.000000   \n",
       "mean        0.061239      0.377114      0.287291     -0.483673      0.721574   \n",
       "std         0.998168      0.926209      0.827733      0.875289      0.692369   \n",
       "min        -1.000000     -1.000000     -1.000000     -1.000000     -1.000000   \n",
       "25%        -1.000000     -1.000000      0.000000     -1.000000      1.000000   \n",
       "50%         1.000000      1.000000      1.000000     -1.000000      1.000000   \n",
       "75%         1.000000      1.000000      1.000000      1.000000      1.000000   \n",
       "max         1.000000      1.000000      1.000000      1.000000      1.000000   \n",
       "\n",
       "       Links_pointing_to_page  Statistical_report        Result  \n",
       "count            11055.000000        11055.000000  11055.000000  \n",
       "mean                 0.344007            0.719584      0.113885  \n",
       "std                  0.569944            0.694437      0.993539  \n",
       "min                 -1.000000           -1.000000     -1.000000  \n",
       "25%                  0.000000            1.000000     -1.000000  \n",
       "50%                  0.000000            1.000000      1.000000  \n",
       "75%                  1.000000            1.000000      1.000000  \n",
       "max                  1.000000            1.000000      1.000000  \n",
       "\n",
       "[8 rows x 32 columns]"
      ]
     },
     "execution_count": 20,
     "metadata": {},
     "output_type": "execute_result"
    }
   ],
   "source": [
    "data.describe()  ## Displaying some summary statistics"
   ]
  },
  {
   "cell_type": "markdown",
   "metadata": {
    "id": "tYePQdJgyuFi"
   },
   "source": [
    "drop the index column because that acts as a primary key and has no significance in EDA and modelling"
   ]
  },
  {
   "cell_type": "code",
   "execution_count": 21,
   "metadata": {
    "executionInfo": {
     "elapsed": 523,
     "status": "ok",
     "timestamp": 1671373915436,
     "user": {
      "displayName": "Shan Thiagarajan",
      "userId": "07848716946087442606"
     },
     "user_tz": -330
    },
    "id": "pHy-TZAuyuFj"
   },
   "outputs": [],
   "source": [
    "data = data.drop(columns=['index'])"
   ]
  },
  {
   "cell_type": "code",
   "execution_count": 22,
   "metadata": {
    "colab": {
     "base_uri": "https://localhost:8080/"
    },
    "executionInfo": {
     "elapsed": 405,
     "status": "ok",
     "timestamp": 1671373951293,
     "user": {
      "displayName": "Shan Thiagarajan",
      "userId": "07848716946087442606"
     },
     "user_tz": -330
    },
    "id": "E3Ug7nA8yuFj",
    "outputId": "6b9635fb-5bce-4d4e-97d6-9c37b91a3930"
   },
   "outputs": [
    {
     "data": {
      "text/plain": [
       " 1    6157\n",
       "-1    4898\n",
       "Name: Result, dtype: int64"
      ]
     },
     "execution_count": 22,
     "metadata": {},
     "output_type": "execute_result"
    }
   ],
   "source": [
    "## Checking the value counts.  i.e. checking the count of each category.\n",
    "data['Result'].value_counts()"
   ]
  },
  {
   "cell_type": "code",
   "execution_count": 23,
   "metadata": {
    "colab": {
     "base_uri": "https://localhost:8080/"
    },
    "executionInfo": {
     "elapsed": 354,
     "status": "ok",
     "timestamp": 1671374015429,
     "user": {
      "displayName": "Shan Thiagarajan",
      "userId": "07848716946087442606"
     },
     "user_tz": -330
    },
    "id": "CE-HJYP0ps8d",
    "outputId": "97ea3e1a-390b-4343-84ee-244f496e8d08"
   },
   "outputs": [
    {
     "data": {
      "text/plain": [
       " 1    55.69\n",
       "-1    44.31\n",
       "Name: Result, dtype: float64"
      ]
     },
     "execution_count": 23,
     "metadata": {},
     "output_type": "execute_result"
    }
   ],
   "source": [
    "## Percentage of Target classes\n",
    "round(data['Result'].value_counts(normalize=True) *100, 2)\n"
   ]
  },
  {
   "cell_type": "code",
   "execution_count": 25,
   "metadata": {
    "colab": {
     "base_uri": "https://localhost:8080/",
     "height": 301
    },
    "executionInfo": {
     "elapsed": 403,
     "status": "ok",
     "timestamp": 1671374093333,
     "user": {
      "displayName": "Shan Thiagarajan",
      "userId": "07848716946087442606"
     },
     "user_tz": -330
    },
    "id": "erHwqNIOyuFj",
    "outputId": "9593b1be-2857-4fd8-a021-f123986a34b0"
   },
   "outputs": [
    {
     "data": {
      "image/png": "[encoded data removed]",
      "text/plain": [
       "<Figure size 432x288 with 1 Axes>"
      ]
     },
     "metadata": {},
     "output_type": "display_data"
    }
   ],
   "source": [
    "## Visualizing the target variable count\n",
    "sns.countplot(x = data['Result'])\n",
    "plt.title(\"Count of Target Variable\")\n",
    "plt.show()"
   ]
  },
  {
   "cell_type": "markdown",
   "metadata": {
    "id": "wLWEX9yIqhCK"
   },
   "source": [
    "In the given dataset, all the features are categorical features.  So, Count Plot is an appropriate visualition than Histogram"
   ]
  },
  {
   "cell_type": "code",
   "execution_count": 18,
   "metadata": {
    "colab": {
     "base_uri": "https://localhost:8080/",
     "height": 485
    },
    "executionInfo": {
     "elapsed": 612,
     "status": "ok",
     "timestamp": 1671359897551,
     "user": {
      "displayName": "Shan Thiagarajan",
      "userId": "07848716946087442606"
     },
     "user_tz": -330
    },
    "id": "EPCoaNqHyuFj",
    "outputId": "2978e3fb-8227-442a-918e-60d94f824fc3"
   },
   "outputs": [
    {
     "data": {
      "image/png": "[encoded data removed]",
      "text/plain": [
       "<Figure size 576x576 with 1 Axes>"
      ]
     },
     "metadata": {},
     "output_type": "display_data"
    }
   ],
   "source": [
    "# Plot distribution of classes using Histograms\n",
    "plt.figure(figsize =(8,8))\n",
    "plt.hist(data.Result)  \n",
    "plt.show()"
   ]
  },
  {
   "cell_type": "markdown",
   "metadata": {
    "id": "9TkDCiK-yuFj"
   },
   "source": [
    "## Task2: Correlation of features and feature selection:"
   ]
  },
  {
   "cell_type": "code",
   "execution_count": 19,
   "metadata": {
    "colab": {
     "base_uri": "https://localhost:8080/",
     "height": 1000
    },
    "executionInfo": {
     "elapsed": 366,
     "status": "ok",
     "timestamp": 1671359916062,
     "user": {
      "displayName": "Shan Thiagarajan",
      "userId": "07848716946087442606"
     },
     "user_tz": -330
    },
    "id": "7kxY3VYxyuFj",
    "outputId": "f091f88e-c90a-45b8-f655-723d02037a51"
   },
   "outputs": [
    {
     "data": {
      "text/html": [
       "\n",
       "  <div id=\"df-80603d74-1f5e-4bf0-a708-792145babeb1\">\n",
       "    <div class=\"colab-df-container\">\n",
       "      <div>\n",
       "<style scoped>\n",
       "    .dataframe tbody tr th:only-of-type {\n",
       "        vertical-align: middle;\n",
       "    }\n",
       "\n",
       "    .dataframe tbody tr th {\n",
       "        vertical-align: top;\n",
       "    }\n",
       "\n",
       "    .dataframe thead th {\n",
       "        text-align: right;\n",
       "    }\n",
       "</style>\n",
       "<table border=\"1\" class=\"dataframe\">\n",
       "  <thead>\n",
       "    <tr style=\"text-align: right;\">\n",
       "      <th></th>\n",
       "      <th>having_IPhaving_IP_Address</th>\n",
       "      <th>URLURL_Length</th>\n",
       "      <th>Shortining_Service</th>\n",
       "      <th>having_At_Symbol</th>\n",
       "      <th>double_slash_redirecting</th>\n",
       "      <th>Prefix_Suffix</th>\n",
       "      <th>having_Sub_Domain</th>\n",
       "      <th>SSLfinal_State</th>\n",
       "      <th>Domain_registeration_length</th>\n",
       "      <th>Favicon</th>\n",
       "      <th>...</th>\n",
       "      <th>popUpWidnow</th>\n",
       "      <th>Iframe</th>\n",
       "      <th>age_of_domain</th>\n",
       "      <th>DNSRecord</th>\n",
       "      <th>web_traffic</th>\n",
       "      <th>Page_Rank</th>\n",
       "      <th>Google_Index</th>\n",
       "      <th>Links_pointing_to_page</th>\n",
       "      <th>Statistical_report</th>\n",
       "      <th>Result</th>\n",
       "    </tr>\n",
       "  </thead>\n",
       "  <tbody>\n",
       "    <tr>\n",
       "      <th>having_IPhaving_IP_Address</th>\n",
       "      <td>1.000000</td>\n",
       "      <td>-0.052411</td>\n",
       "      <td>0.403461</td>\n",
       "      <td>0.158699</td>\n",
       "      <td>0.397389</td>\n",
       "      <td>-0.005257</td>\n",
       "      <td>-0.080745</td>\n",
       "      <td>0.071414</td>\n",
       "      <td>-0.022739</td>\n",
       "      <td>0.087025</td>\n",
       "      <td>...</td>\n",
       "      <td>0.096882</td>\n",
       "      <td>0.054694</td>\n",
       "      <td>-0.010446</td>\n",
       "      <td>-0.050733</td>\n",
       "      <td>0.002922</td>\n",
       "      <td>-0.091774</td>\n",
       "      <td>0.029153</td>\n",
       "      <td>-0.339065</td>\n",
       "      <td>-0.019103</td>\n",
       "      <td>0.094160</td>\n",
       "    </tr>\n",
       "    <tr>\n",
       "      <th>URLURL_Length</th>\n",
       "      <td>-0.052411</td>\n",
       "      <td>1.000000</td>\n",
       "      <td>-0.097881</td>\n",
       "      <td>-0.075108</td>\n",
       "      <td>-0.081247</td>\n",
       "      <td>0.055247</td>\n",
       "      <td>0.003997</td>\n",
       "      <td>0.048754</td>\n",
       "      <td>-0.221892</td>\n",
       "      <td>-0.042497</td>\n",
       "      <td>...</td>\n",
       "      <td>-0.049381</td>\n",
       "      <td>-0.013838</td>\n",
       "      <td>0.179426</td>\n",
       "      <td>-0.040823</td>\n",
       "      <td>0.008993</td>\n",
       "      <td>0.183518</td>\n",
       "      <td>0.002902</td>\n",
       "      <td>-0.022987</td>\n",
       "      <td>-0.067153</td>\n",
       "      <td>0.057430</td>\n",
       "    </tr>\n",
       "    <tr>\n",
       "      <th>Shortining_Service</th>\n",
       "      <td>0.403461</td>\n",
       "      <td>-0.097881</td>\n",
       "      <td>1.000000</td>\n",
       "      <td>0.104447</td>\n",
       "      <td>0.842796</td>\n",
       "      <td>-0.080471</td>\n",
       "      <td>-0.041916</td>\n",
       "      <td>-0.061426</td>\n",
       "      <td>0.060923</td>\n",
       "      <td>0.006101</td>\n",
       "      <td>...</td>\n",
       "      <td>0.036616</td>\n",
       "      <td>0.016581</td>\n",
       "      <td>-0.052596</td>\n",
       "      <td>0.436064</td>\n",
       "      <td>-0.047074</td>\n",
       "      <td>0.014591</td>\n",
       "      <td>0.155844</td>\n",
       "      <td>-0.198410</td>\n",
       "      <td>0.085461</td>\n",
       "      <td>-0.067966</td>\n",
       "    </tr>\n",
       "    <tr>\n",
       "      <th>having_At_Symbol</th>\n",
       "      <td>0.158699</td>\n",
       "      <td>-0.075108</td>\n",
       "      <td>0.104447</td>\n",
       "      <td>1.000000</td>\n",
       "      <td>0.086960</td>\n",
       "      <td>-0.011726</td>\n",
       "      <td>-0.058976</td>\n",
       "      <td>0.031220</td>\n",
       "      <td>0.015522</td>\n",
       "      <td>0.304899</td>\n",
       "      <td>...</td>\n",
       "      <td>0.290893</td>\n",
       "      <td>0.284410</td>\n",
       "      <td>-0.005499</td>\n",
       "      <td>-0.047872</td>\n",
       "      <td>0.032918</td>\n",
       "      <td>-0.064735</td>\n",
       "      <td>0.037061</td>\n",
       "      <td>-0.006080</td>\n",
       "      <td>-0.080357</td>\n",
       "      <td>0.052948</td>\n",
       "    </tr>\n",
       "    <tr>\n",
       "      <th>double_slash_redirecting</th>\n",
       "      <td>0.397389</td>\n",
       "      <td>-0.081247</td>\n",
       "      <td>0.842796</td>\n",
       "      <td>0.086960</td>\n",
       "      <td>1.000000</td>\n",
       "      <td>-0.085590</td>\n",
       "      <td>-0.043079</td>\n",
       "      <td>-0.036200</td>\n",
       "      <td>0.047464</td>\n",
       "      <td>0.035100</td>\n",
       "      <td>...</td>\n",
       "      <td>0.054463</td>\n",
       "      <td>0.010459</td>\n",
       "      <td>-0.050107</td>\n",
       "      <td>0.431409</td>\n",
       "      <td>-0.062369</td>\n",
       "      <td>-0.003132</td>\n",
       "      <td>0.178415</td>\n",
       "      <td>-0.194165</td>\n",
       "      <td>0.070390</td>\n",
       "      <td>-0.038608</td>\n",
       "    </tr>\n",
       "    <tr>\n",
       "      <th>Prefix_Suffix</th>\n",
       "      <td>-0.005257</td>\n",
       "      <td>0.055247</td>\n",
       "      <td>-0.080471</td>\n",
       "      <td>-0.011726</td>\n",
       "      <td>-0.085590</td>\n",
       "      <td>1.000000</td>\n",
       "      <td>0.087891</td>\n",
       "      <td>0.261391</td>\n",
       "      <td>-0.096799</td>\n",
       "      <td>-0.007504</td>\n",
       "      <td>...</td>\n",
       "      <td>-0.014733</td>\n",
       "      <td>-0.036904</td>\n",
       "      <td>0.074116</td>\n",
       "      <td>-0.016556</td>\n",
       "      <td>0.110598</td>\n",
       "      <td>-0.006834</td>\n",
       "      <td>0.067781</td>\n",
       "      <td>0.067423</td>\n",
       "      <td>-0.002763</td>\n",
       "      <td>0.348606</td>\n",
       "    </tr>\n",
       "    <tr>\n",
       "      <th>having_Sub_Domain</th>\n",
       "      <td>-0.080745</td>\n",
       "      <td>0.003997</td>\n",
       "      <td>-0.041916</td>\n",
       "      <td>-0.058976</td>\n",
       "      <td>-0.043079</td>\n",
       "      <td>0.087891</td>\n",
       "      <td>1.000000</td>\n",
       "      <td>0.267649</td>\n",
       "      <td>-0.082839</td>\n",
       "      <td>-0.016704</td>\n",
       "      <td>...</td>\n",
       "      <td>-0.025312</td>\n",
       "      <td>0.010637</td>\n",
       "      <td>0.119254</td>\n",
       "      <td>0.125493</td>\n",
       "      <td>-0.005764</td>\n",
       "      <td>0.120730</td>\n",
       "      <td>0.057673</td>\n",
       "      <td>-0.010526</td>\n",
       "      <td>0.081627</td>\n",
       "      <td>0.298323</td>\n",
       "    </tr>\n",
       "    <tr>\n",
       "      <th>SSLfinal_State</th>\n",
       "      <td>0.071414</td>\n",
       "      <td>0.048754</td>\n",
       "      <td>-0.061426</td>\n",
       "      <td>0.031220</td>\n",
       "      <td>-0.036200</td>\n",
       "      <td>0.261391</td>\n",
       "      <td>0.267649</td>\n",
       "      <td>1.000000</td>\n",
       "      <td>-0.193622</td>\n",
       "      <td>-0.014757</td>\n",
       "      <td>...</td>\n",
       "      <td>-0.013005</td>\n",
       "      <td>-0.002773</td>\n",
       "      <td>0.162809</td>\n",
       "      <td>0.050972</td>\n",
       "      <td>0.258768</td>\n",
       "      <td>0.074545</td>\n",
       "      <td>0.096051</td>\n",
       "      <td>-0.011710</td>\n",
       "      <td>0.063411</td>\n",
       "      <td>0.714741</td>\n",
       "    </tr>\n",
       "    <tr>\n",
       "      <th>Domain_registeration_length</th>\n",
       "      <td>-0.022739</td>\n",
       "      <td>-0.221892</td>\n",
       "      <td>0.060923</td>\n",
       "      <td>0.015522</td>\n",
       "      <td>0.047464</td>\n",
       "      <td>-0.096799</td>\n",
       "      <td>-0.082839</td>\n",
       "      <td>-0.193622</td>\n",
       "      <td>1.000000</td>\n",
       "      <td>0.054253</td>\n",
       "      <td>...</td>\n",
       "      <td>0.051410</td>\n",
       "      <td>0.004393</td>\n",
       "      <td>-0.062851</td>\n",
       "      <td>-0.010477</td>\n",
       "      <td>-0.134454</td>\n",
       "      <td>-0.059898</td>\n",
       "      <td>-0.039766</td>\n",
       "      <td>0.122672</td>\n",
       "      <td>-0.002212</td>\n",
       "      <td>-0.225789</td>\n",
       "    </tr>\n",
       "    <tr>\n",
       "      <th>Favicon</th>\n",
       "      <td>0.087025</td>\n",
       "      <td>-0.042497</td>\n",
       "      <td>0.006101</td>\n",
       "      <td>0.304899</td>\n",
       "      <td>0.035100</td>\n",
       "      <td>-0.007504</td>\n",
       "      <td>-0.016704</td>\n",
       "      <td>-0.014757</td>\n",
       "      <td>0.054253</td>\n",
       "      <td>1.000000</td>\n",
       "      <td>...</td>\n",
       "      <td>0.939633</td>\n",
       "      <td>0.627607</td>\n",
       "      <td>-0.002628</td>\n",
       "      <td>0.088211</td>\n",
       "      <td>-0.050922</td>\n",
       "      <td>0.011699</td>\n",
       "      <td>-0.016668</td>\n",
       "      <td>-0.127243</td>\n",
       "      <td>0.300917</td>\n",
       "      <td>-0.000280</td>\n",
       "    </tr>\n",
       "    <tr>\n",
       "      <th>port</th>\n",
       "      <td>0.060979</td>\n",
       "      <td>0.000323</td>\n",
       "      <td>0.002201</td>\n",
       "      <td>0.364891</td>\n",
       "      <td>0.025060</td>\n",
       "      <td>-0.022546</td>\n",
       "      <td>0.004863</td>\n",
       "      <td>0.027473</td>\n",
       "      <td>0.022478</td>\n",
       "      <td>0.803834</td>\n",
       "      <td>...</td>\n",
       "      <td>0.748517</td>\n",
       "      <td>0.687044</td>\n",
       "      <td>0.008459</td>\n",
       "      <td>0.054849</td>\n",
       "      <td>-0.028543</td>\n",
       "      <td>0.017954</td>\n",
       "      <td>-0.005413</td>\n",
       "      <td>-0.139104</td>\n",
       "      <td>0.343987</td>\n",
       "      <td>0.036419</td>\n",
       "    </tr>\n",
       "    <tr>\n",
       "      <th>HTTPS_token</th>\n",
       "      <td>0.363534</td>\n",
       "      <td>-0.089383</td>\n",
       "      <td>0.757838</td>\n",
       "      <td>0.104561</td>\n",
       "      <td>0.760799</td>\n",
       "      <td>-0.070153</td>\n",
       "      <td>-0.037239</td>\n",
       "      <td>-0.029941</td>\n",
       "      <td>0.059161</td>\n",
       "      <td>0.049483</td>\n",
       "      <td>...</td>\n",
       "      <td>0.066957</td>\n",
       "      <td>0.017509</td>\n",
       "      <td>-0.049632</td>\n",
       "      <td>0.395387</td>\n",
       "      <td>-0.039708</td>\n",
       "      <td>0.021104</td>\n",
       "      <td>0.115450</td>\n",
       "      <td>-0.128724</td>\n",
       "      <td>0.096187</td>\n",
       "      <td>-0.039854</td>\n",
       "    </tr>\n",
       "    <tr>\n",
       "      <th>Request_URL</th>\n",
       "      <td>0.029773</td>\n",
       "      <td>0.246348</td>\n",
       "      <td>-0.037235</td>\n",
       "      <td>0.027909</td>\n",
       "      <td>-0.026368</td>\n",
       "      <td>0.098675</td>\n",
       "      <td>0.104857</td>\n",
       "      <td>0.193054</td>\n",
       "      <td>-0.609970</td>\n",
       "      <td>-0.004620</td>\n",
       "      <td>...</td>\n",
       "      <td>-0.004622</td>\n",
       "      <td>0.016934</td>\n",
       "      <td>0.090455</td>\n",
       "      <td>0.015933</td>\n",
       "      <td>0.161166</td>\n",
       "      <td>0.055734</td>\n",
       "      <td>0.046409</td>\n",
       "      <td>-0.067109</td>\n",
       "      <td>0.035412</td>\n",
       "      <td>0.253372</td>\n",
       "    </tr>\n",
       "    <tr>\n",
       "      <th>URL_of_Anchor</th>\n",
       "      <td>0.099847</td>\n",
       "      <td>-0.023396</td>\n",
       "      <td>0.000561</td>\n",
       "      <td>0.057914</td>\n",
       "      <td>-0.005036</td>\n",
       "      <td>0.348871</td>\n",
       "      <td>0.229491</td>\n",
       "      <td>0.535786</td>\n",
       "      <td>-0.160257</td>\n",
       "      <td>0.037698</td>\n",
       "      <td>...</td>\n",
       "      <td>0.041150</td>\n",
       "      <td>0.013403</td>\n",
       "      <td>0.075508</td>\n",
       "      <td>0.093288</td>\n",
       "      <td>0.326293</td>\n",
       "      <td>0.099261</td>\n",
       "      <td>0.038816</td>\n",
       "      <td>0.018651</td>\n",
       "      <td>0.077377</td>\n",
       "      <td>0.692935</td>\n",
       "    </tr>\n",
       "    <tr>\n",
       "      <th>Links_in_tags</th>\n",
       "      <td>0.006212</td>\n",
       "      <td>0.052869</td>\n",
       "      <td>-0.133379</td>\n",
       "      <td>-0.070861</td>\n",
       "      <td>-0.125583</td>\n",
       "      <td>0.100254</td>\n",
       "      <td>0.093646</td>\n",
       "      <td>0.176825</td>\n",
       "      <td>-0.101084</td>\n",
       "      <td>-0.100341</td>\n",
       "      <td>...</td>\n",
       "      <td>-0.112282</td>\n",
       "      <td>-0.070030</td>\n",
       "      <td>0.078057</td>\n",
       "      <td>-0.038545</td>\n",
       "      <td>0.064548</td>\n",
       "      <td>-0.006450</td>\n",
       "      <td>0.045557</td>\n",
       "      <td>0.013561</td>\n",
       "      <td>-0.087343</td>\n",
       "      <td>0.248229</td>\n",
       "    </tr>\n",
       "    <tr>\n",
       "      <th>SFH</th>\n",
       "      <td>-0.010962</td>\n",
       "      <td>0.414196</td>\n",
       "      <td>-0.022723</td>\n",
       "      <td>-0.008672</td>\n",
       "      <td>-0.041672</td>\n",
       "      <td>0.001326</td>\n",
       "      <td>0.096089</td>\n",
       "      <td>0.171402</td>\n",
       "      <td>-0.136422</td>\n",
       "      <td>-0.012279</td>\n",
       "      <td>...</td>\n",
       "      <td>-0.004863</td>\n",
       "      <td>0.007067</td>\n",
       "      <td>-0.015840</td>\n",
       "      <td>0.034440</td>\n",
       "      <td>0.052706</td>\n",
       "      <td>0.001979</td>\n",
       "      <td>0.027588</td>\n",
       "      <td>-0.009068</td>\n",
       "      <td>-0.005289</td>\n",
       "      <td>0.221419</td>\n",
       "    </tr>\n",
       "    <tr>\n",
       "      <th>Submitting_to_email</th>\n",
       "      <td>0.077989</td>\n",
       "      <td>-0.014457</td>\n",
       "      <td>0.049328</td>\n",
       "      <td>0.370123</td>\n",
       "      <td>0.031898</td>\n",
       "      <td>-0.045000</td>\n",
       "      <td>0.008830</td>\n",
       "      <td>0.008062</td>\n",
       "      <td>0.039260</td>\n",
       "      <td>0.668317</td>\n",
       "      <td>...</td>\n",
       "      <td>0.629462</td>\n",
       "      <td>0.577490</td>\n",
       "      <td>0.007357</td>\n",
       "      <td>0.064145</td>\n",
       "      <td>-0.015685</td>\n",
       "      <td>0.026208</td>\n",
       "      <td>-0.008378</td>\n",
       "      <td>-0.039956</td>\n",
       "      <td>0.352074</td>\n",
       "      <td>0.018249</td>\n",
       "    </tr>\n",
       "    <tr>\n",
       "      <th>Abnormal_URL</th>\n",
       "      <td>0.336549</td>\n",
       "      <td>-0.106761</td>\n",
       "      <td>0.739290</td>\n",
       "      <td>0.203945</td>\n",
       "      <td>0.723724</td>\n",
       "      <td>-0.077620</td>\n",
       "      <td>-0.034908</td>\n",
       "      <td>-0.046245</td>\n",
       "      <td>0.058109</td>\n",
       "      <td>0.071848</td>\n",
       "      <td>...</td>\n",
       "      <td>0.091188</td>\n",
       "      <td>0.017590</td>\n",
       "      <td>-0.032533</td>\n",
       "      <td>0.366833</td>\n",
       "      <td>-0.052416</td>\n",
       "      <td>0.007318</td>\n",
       "      <td>0.124751</td>\n",
       "      <td>-0.161027</td>\n",
       "      <td>0.186399</td>\n",
       "      <td>-0.060488</td>\n",
       "    </tr>\n",
       "    <tr>\n",
       "      <th>Redirect</th>\n",
       "      <td>-0.321181</td>\n",
       "      <td>0.046832</td>\n",
       "      <td>-0.534530</td>\n",
       "      <td>-0.028160</td>\n",
       "      <td>-0.591478</td>\n",
       "      <td>0.016271</td>\n",
       "      <td>0.031206</td>\n",
       "      <td>-0.021070</td>\n",
       "      <td>-0.016300</td>\n",
       "      <td>-0.015621</td>\n",
       "      <td>...</td>\n",
       "      <td>-0.026327</td>\n",
       "      <td>-0.012668</td>\n",
       "      <td>-0.022476</td>\n",
       "      <td>-0.211096</td>\n",
       "      <td>0.004631</td>\n",
       "      <td>0.052867</td>\n",
       "      <td>0.057230</td>\n",
       "      <td>0.161278</td>\n",
       "      <td>-0.059194</td>\n",
       "      <td>-0.020113</td>\n",
       "    </tr>\n",
       "    <tr>\n",
       "      <th>on_mouseover</th>\n",
       "      <td>0.084059</td>\n",
       "      <td>-0.045103</td>\n",
       "      <td>0.062383</td>\n",
       "      <td>0.279697</td>\n",
       "      <td>0.086635</td>\n",
       "      <td>0.012578</td>\n",
       "      <td>-0.018082</td>\n",
       "      <td>0.023586</td>\n",
       "      <td>0.023784</td>\n",
       "      <td>0.706179</td>\n",
       "      <td>...</td>\n",
       "      <td>0.733629</td>\n",
       "      <td>0.659478</td>\n",
       "      <td>0.013306</td>\n",
       "      <td>0.087161</td>\n",
       "      <td>-0.036531</td>\n",
       "      <td>0.015634</td>\n",
       "      <td>-0.006510</td>\n",
       "      <td>-0.038551</td>\n",
       "      <td>0.277347</td>\n",
       "      <td>0.041838</td>\n",
       "    </tr>\n",
       "    <tr>\n",
       "      <th>RightClick</th>\n",
       "      <td>0.042881</td>\n",
       "      <td>-0.013613</td>\n",
       "      <td>0.038118</td>\n",
       "      <td>0.219503</td>\n",
       "      <td>0.025863</td>\n",
       "      <td>-0.024868</td>\n",
       "      <td>0.018230</td>\n",
       "      <td>0.015854</td>\n",
       "      <td>0.023520</td>\n",
       "      <td>0.414382</td>\n",
       "      <td>...</td>\n",
       "      <td>0.415268</td>\n",
       "      <td>0.655863</td>\n",
       "      <td>0.006764</td>\n",
       "      <td>0.038255</td>\n",
       "      <td>-0.013594</td>\n",
       "      <td>0.025341</td>\n",
       "      <td>-0.008066</td>\n",
       "      <td>-0.119831</td>\n",
       "      <td>0.204409</td>\n",
       "      <td>0.012653</td>\n",
       "    </tr>\n",
       "    <tr>\n",
       "      <th>popUpWidnow</th>\n",
       "      <td>0.096882</td>\n",
       "      <td>-0.049381</td>\n",
       "      <td>0.036616</td>\n",
       "      <td>0.290893</td>\n",
       "      <td>0.054463</td>\n",
       "      <td>-0.014733</td>\n",
       "      <td>-0.025312</td>\n",
       "      <td>-0.013005</td>\n",
       "      <td>0.051410</td>\n",
       "      <td>0.939633</td>\n",
       "      <td>...</td>\n",
       "      <td>1.000000</td>\n",
       "      <td>0.629406</td>\n",
       "      <td>-0.000948</td>\n",
       "      <td>0.098658</td>\n",
       "      <td>-0.043190</td>\n",
       "      <td>0.017114</td>\n",
       "      <td>-0.010256</td>\n",
       "      <td>-0.121325</td>\n",
       "      <td>0.285261</td>\n",
       "      <td>0.000086</td>\n",
       "    </tr>\n",
       "    <tr>\n",
       "      <th>Iframe</th>\n",
       "      <td>0.054694</td>\n",
       "      <td>-0.013838</td>\n",
       "      <td>0.016581</td>\n",
       "      <td>0.284410</td>\n",
       "      <td>0.010459</td>\n",
       "      <td>-0.036904</td>\n",
       "      <td>0.010637</td>\n",
       "      <td>-0.002773</td>\n",
       "      <td>0.004393</td>\n",
       "      <td>0.627607</td>\n",
       "      <td>...</td>\n",
       "      <td>0.629406</td>\n",
       "      <td>1.000000</td>\n",
       "      <td>0.018848</td>\n",
       "      <td>0.047293</td>\n",
       "      <td>-0.022080</td>\n",
       "      <td>0.022407</td>\n",
       "      <td>-0.003519</td>\n",
       "      <td>-0.140824</td>\n",
       "      <td>0.268418</td>\n",
       "      <td>-0.003394</td>\n",
       "    </tr>\n",
       "    <tr>\n",
       "      <th>age_of_domain</th>\n",
       "      <td>-0.010446</td>\n",
       "      <td>0.179426</td>\n",
       "      <td>-0.052596</td>\n",
       "      <td>-0.005499</td>\n",
       "      <td>-0.050107</td>\n",
       "      <td>0.074116</td>\n",
       "      <td>0.119254</td>\n",
       "      <td>0.162809</td>\n",
       "      <td>-0.062851</td>\n",
       "      <td>-0.002628</td>\n",
       "      <td>...</td>\n",
       "      <td>-0.000948</td>\n",
       "      <td>0.018848</td>\n",
       "      <td>1.000000</td>\n",
       "      <td>-0.034082</td>\n",
       "      <td>0.089949</td>\n",
       "      <td>-0.147194</td>\n",
       "      <td>-0.028471</td>\n",
       "      <td>0.040407</td>\n",
       "      <td>0.009115</td>\n",
       "      <td>0.121496</td>\n",
       "    </tr>\n",
       "    <tr>\n",
       "      <th>DNSRecord</th>\n",
       "      <td>-0.050733</td>\n",
       "      <td>-0.040823</td>\n",
       "      <td>0.436064</td>\n",
       "      <td>-0.047872</td>\n",
       "      <td>0.431409</td>\n",
       "      <td>-0.016556</td>\n",
       "      <td>0.125493</td>\n",
       "      <td>0.050972</td>\n",
       "      <td>-0.010477</td>\n",
       "      <td>0.088211</td>\n",
       "      <td>...</td>\n",
       "      <td>0.098658</td>\n",
       "      <td>0.047293</td>\n",
       "      <td>-0.034082</td>\n",
       "      <td>1.000000</td>\n",
       "      <td>0.048650</td>\n",
       "      <td>0.137860</td>\n",
       "      <td>0.137509</td>\n",
       "      <td>-0.318266</td>\n",
       "      <td>0.136860</td>\n",
       "      <td>0.075718</td>\n",
       "    </tr>\n",
       "    <tr>\n",
       "      <th>web_traffic</th>\n",
       "      <td>0.002922</td>\n",
       "      <td>0.008993</td>\n",
       "      <td>-0.047074</td>\n",
       "      <td>0.032918</td>\n",
       "      <td>-0.062369</td>\n",
       "      <td>0.110598</td>\n",
       "      <td>-0.005764</td>\n",
       "      <td>0.258768</td>\n",
       "      <td>-0.134454</td>\n",
       "      <td>-0.050922</td>\n",
       "      <td>...</td>\n",
       "      <td>-0.043190</td>\n",
       "      <td>-0.022080</td>\n",
       "      <td>0.089949</td>\n",
       "      <td>0.048650</td>\n",
       "      <td>1.000000</td>\n",
       "      <td>0.030984</td>\n",
       "      <td>-0.012584</td>\n",
       "      <td>-0.019860</td>\n",
       "      <td>0.009223</td>\n",
       "      <td>0.346103</td>\n",
       "    </tr>\n",
       "    <tr>\n",
       "      <th>Page_Rank</th>\n",
       "      <td>-0.091774</td>\n",
       "      <td>0.183518</td>\n",
       "      <td>0.014591</td>\n",
       "      <td>-0.064735</td>\n",
       "      <td>-0.003132</td>\n",
       "      <td>-0.006834</td>\n",
       "      <td>0.120730</td>\n",
       "      <td>0.074545</td>\n",
       "      <td>-0.059898</td>\n",
       "      <td>0.011699</td>\n",
       "      <td>...</td>\n",
       "      <td>0.017114</td>\n",
       "      <td>0.022407</td>\n",
       "      <td>-0.147194</td>\n",
       "      <td>0.137860</td>\n",
       "      <td>0.030984</td>\n",
       "      <td>1.000000</td>\n",
       "      <td>0.032431</td>\n",
       "      <td>-0.028216</td>\n",
       "      <td>0.031049</td>\n",
       "      <td>0.104645</td>\n",
       "    </tr>\n",
       "    <tr>\n",
       "      <th>Google_Index</th>\n",
       "      <td>0.029153</td>\n",
       "      <td>0.002902</td>\n",
       "      <td>0.155844</td>\n",
       "      <td>0.037061</td>\n",
       "      <td>0.178415</td>\n",
       "      <td>0.067781</td>\n",
       "      <td>0.057673</td>\n",
       "      <td>0.096051</td>\n",
       "      <td>-0.039766</td>\n",
       "      <td>-0.016668</td>\n",
       "      <td>...</td>\n",
       "      <td>-0.010256</td>\n",
       "      <td>-0.003519</td>\n",
       "      <td>-0.028471</td>\n",
       "      <td>0.137509</td>\n",
       "      <td>-0.012584</td>\n",
       "      <td>0.032431</td>\n",
       "      <td>1.000000</td>\n",
       "      <td>-0.038777</td>\n",
       "      <td>-0.005103</td>\n",
       "      <td>0.128950</td>\n",
       "    </tr>\n",
       "    <tr>\n",
       "      <th>Links_pointing_to_page</th>\n",
       "      <td>-0.339065</td>\n",
       "      <td>-0.022987</td>\n",
       "      <td>-0.198410</td>\n",
       "      <td>-0.006080</td>\n",
       "      <td>-0.194165</td>\n",
       "      <td>0.067423</td>\n",
       "      <td>-0.010526</td>\n",
       "      <td>-0.011710</td>\n",
       "      <td>0.122672</td>\n",
       "      <td>-0.127243</td>\n",
       "      <td>...</td>\n",
       "      <td>-0.121325</td>\n",
       "      <td>-0.140824</td>\n",
       "      <td>0.040407</td>\n",
       "      <td>-0.318266</td>\n",
       "      <td>-0.019860</td>\n",
       "      <td>-0.028216</td>\n",
       "      <td>-0.038777</td>\n",
       "      <td>1.000000</td>\n",
       "      <td>-0.016817</td>\n",
       "      <td>0.032574</td>\n",
       "    </tr>\n",
       "    <tr>\n",
       "      <th>Statistical_report</th>\n",
       "      <td>-0.019103</td>\n",
       "      <td>-0.067153</td>\n",
       "      <td>0.085461</td>\n",
       "      <td>-0.080357</td>\n",
       "      <td>0.070390</td>\n",
       "      <td>-0.002763</td>\n",
       "      <td>0.081627</td>\n",
       "      <td>0.063411</td>\n",
       "      <td>-0.002212</td>\n",
       "      <td>0.300917</td>\n",
       "      <td>...</td>\n",
       "      <td>0.285261</td>\n",
       "      <td>0.268418</td>\n",
       "      <td>0.009115</td>\n",
       "      <td>0.136860</td>\n",
       "      <td>0.009223</td>\n",
       "      <td>0.031049</td>\n",
       "      <td>-0.005103</td>\n",
       "      <td>-0.016817</td>\n",
       "      <td>1.000000</td>\n",
       "      <td>0.079857</td>\n",
       "    </tr>\n",
       "    <tr>\n",
       "      <th>Result</th>\n",
       "      <td>0.094160</td>\n",
       "      <td>0.057430</td>\n",
       "      <td>-0.067966</td>\n",
       "      <td>0.052948</td>\n",
       "      <td>-0.038608</td>\n",
       "      <td>0.348606</td>\n",
       "      <td>0.298323</td>\n",
       "      <td>0.714741</td>\n",
       "      <td>-0.225789</td>\n",
       "      <td>-0.000280</td>\n",
       "      <td>...</td>\n",
       "      <td>0.000086</td>\n",
       "      <td>-0.003394</td>\n",
       "      <td>0.121496</td>\n",
       "      <td>0.075718</td>\n",
       "      <td>0.346103</td>\n",
       "      <td>0.104645</td>\n",
       "      <td>0.128950</td>\n",
       "      <td>0.032574</td>\n",
       "      <td>0.079857</td>\n",
       "      <td>1.000000</td>\n",
       "    </tr>\n",
       "  </tbody>\n",
       "</table>\n",
       "<p>31 rows × 31 columns</p>\n",
       "</div>\n",
       "      <button class=\"colab-df-convert\" onclick=\"convertToInteractive('df-80603d74-1f5e-4bf0-a708-792145babeb1')\"\n",
       "              title=\"Convert this dataframe to an interactive table.\"\n",
       "              style=\"display:none;\">\n",
       "        \n",
       "  <svg xmlns=\"http://www.w3.org/2000/svg\" height=\"24px\"viewBox=\"0 0 24 24\"\n",
       "       width=\"24px\">\n",
       "    <path d=\"M0 0h24v24H0V0z\" fill=\"none\"/>\n",
       "    <path d=\"M18.56 5.44l.94 2.06.94-2.06 2.06-.94-2.06-.94-.94-2.06-.94 2.06-2.06.94zm-11 1L8.5 8.5l.94-2.06 2.06-.94-2.06-.94L8.5 2.5l-.94 2.06-2.06.94zm10 10l.94 2.06.94-2.06 2.06-.94-2.06-.94-.94-2.06-.94 2.06-2.06.94z\"/><path d=\"M17.41 7.96l-1.37-1.37c-.4-.4-.92-.59-1.43-.59-.52 0-1.04.2-1.43.59L10.3 9.45l-7.72 7.72c-.78.78-.78 2.05 0 2.83L4 21.41c.39.39.9.59 1.41.59.51 0 1.02-.2 1.41-.59l7.78-7.78 2.81-2.81c.8-.78.8-2.07 0-2.86zM5.41 20L4 18.59l7.72-7.72 1.47 1.35L5.41 20z\"/>\n",
       "  </svg>\n",
       "      </button>\n",
       "      \n",
       "  <style>\n",
       "    .colab-df-container {\n",
       "      display:flex;\n",
       "      flex-wrap:wrap;\n",
       "      gap: 12px;\n",
       "    }\n",
       "\n",
       "    .colab-df-convert {\n",
       "      background-color: #E8F0FE;\n",
       "      border: none;\n",
       "      border-radius: 50%;\n",
       "      cursor: pointer;\n",
       "      display: none;\n",
       "      fill: #1967D2;\n",
       "      height: 32px;\n",
       "      padding: 0 0 0 0;\n",
       "      width: 32px;\n",
       "    }\n",
       "\n",
       "    .colab-df-convert:hover {\n",
       "      background-color: #E2EBFA;\n",
       "      box-shadow: 0px 1px 2px rgba(60, 64, 67, 0.3), 0px 1px 3px 1px rgba(60, 64, 67, 0.15);\n",
       "      fill: #174EA6;\n",
       "    }\n",
       "\n",
       "    [theme=dark] .colab-df-convert {\n",
       "      background-color: #3B4455;\n",
       "      fill: #D2E3FC;\n",
       "    }\n",
       "\n",
       "    [theme=dark] .colab-df-convert:hover {\n",
       "      background-color: #434B5C;\n",
       "      box-shadow: 0px 1px 3px 1px rgba(0, 0, 0, 0.15);\n",
       "      filter: drop-shadow(0px 1px 2px rgba(0, 0, 0, 0.3));\n",
       "      fill: #FFFFFF;\n",
       "    }\n",
       "  </style>\n",
       "\n",
       "      <script>\n",
       "        const buttonEl =\n",
       "          document.querySelector('#df-80603d74-1f5e-4bf0-a708-792145babeb1 button.colab-df-convert');\n",
       "        buttonEl.style.display =\n",
       "          google.colab.kernel.accessAllowed ? 'block' : 'none';\n",
       "\n",
       "        async function convertToInteractive(key) {\n",
       "          const element = document.querySelector('#df-80603d74-1f5e-4bf0-a708-792145babeb1');\n",
       "          const dataTable =\n",
       "            await google.colab.kernel.invokeFunction('convertToInteractive',\n",
       "                                                     [key], {});\n",
       "          if (!dataTable) return;\n",
       "\n",
       "          const docLinkHtml = 'Like what you see? Visit the ' +\n",
       "            '<a target=\"_blank\" href=https://colab.research.google.com/notebooks/data_table.ipynb>data table notebook</a>'\n",
       "            + ' to learn more about interactive tables.';\n",
       "          element.innerHTML = '';\n",
       "          dataTable['output_type'] = 'display_data';\n",
       "          await google.colab.output.renderOutput(dataTable, element);\n",
       "          const docLink = document.createElement('div');\n",
       "          docLink.innerHTML = docLinkHtml;\n",
       "          element.appendChild(docLink);\n",
       "        }\n",
       "      </script>\n",
       "    </div>\n",
       "  </div>\n",
       "  "
      ],
      "text/plain": [
       "                             having_IPhaving_IP_Address  URLURL_Length  \\\n",
       "having_IPhaving_IP_Address                     1.000000      -0.052411   \n",
       "URLURL_Length                                 -0.052411       1.000000   \n",
       "Shortining_Service                             0.403461      -0.097881   \n",
       "having_At_Symbol                               0.158699      -0.075108   \n",
       "double_slash_redirecting                       0.397389      -0.081247   \n",
       "Prefix_Suffix                                 -0.005257       0.055247   \n",
       "having_Sub_Domain                             -0.080745       0.003997   \n",
       "SSLfinal_State                                 0.071414       0.048754   \n",
       "Domain_registeration_length                   -0.022739      -0.221892   \n",
       "Favicon                                        0.087025      -0.042497   \n",
       "port                                           0.060979       0.000323   \n",
       "HTTPS_token                                    0.363534      -0.089383   \n",
       "Request_URL                                    0.029773       0.246348   \n",
       "URL_of_Anchor                                  0.099847      -0.023396   \n",
       "Links_in_tags                                  0.006212       0.052869   \n",
       "SFH                                           -0.010962       0.414196   \n",
       "Submitting_to_email                            0.077989      -0.014457   \n",
       "Abnormal_URL                                   0.336549      -0.106761   \n",
       "Redirect                                      -0.321181       0.046832   \n",
       "on_mouseover                                   0.084059      -0.045103   \n",
       "RightClick                                     0.042881      -0.013613   \n",
       "popUpWidnow                                    0.096882      -0.049381   \n",
       "Iframe                                         0.054694      -0.013838   \n",
       "age_of_domain                                 -0.010446       0.179426   \n",
       "DNSRecord                                     -0.050733      -0.040823   \n",
       "web_traffic                                    0.002922       0.008993   \n",
       "Page_Rank                                     -0.091774       0.183518   \n",
       "Google_Index                                   0.029153       0.002902   \n",
       "Links_pointing_to_page                        -0.339065      -0.022987   \n",
       "Statistical_report                            -0.019103      -0.067153   \n",
       "Result                                         0.094160       0.057430   \n",
       "\n",
       "                             Shortining_Service  having_At_Symbol  \\\n",
       "having_IPhaving_IP_Address             0.403461          0.158699   \n",
       "URLURL_Length                         -0.097881         -0.075108   \n",
       "Shortining_Service                     1.000000          0.104447   \n",
       "having_At_Symbol                       0.104447          1.000000   \n",
       "double_slash_redirecting               0.842796          0.086960   \n",
       "Prefix_Suffix                         -0.080471         -0.011726   \n",
       "having_Sub_Domain                     -0.041916         -0.058976   \n",
       "SSLfinal_State                        -0.061426          0.031220   \n",
       "Domain_registeration_length            0.060923          0.015522   \n",
       "Favicon                                0.006101          0.304899   \n",
       "port                                   0.002201          0.364891   \n",
       "HTTPS_token                            0.757838          0.104561   \n",
       "Request_URL                           -0.037235          0.027909   \n",
       "URL_of_Anchor                          0.000561          0.057914   \n",
       "Links_in_tags                         -0.133379         -0.070861   \n",
       "SFH                                   -0.022723         -0.008672   \n",
       "Submitting_to_email                    0.049328          0.370123   \n",
       "Abnormal_URL                           0.739290          0.203945   \n",
       "Redirect                              -0.534530         -0.028160   \n",
       "on_mouseover                           0.062383          0.279697   \n",
       "RightClick                             0.038118          0.219503   \n",
       "popUpWidnow                            0.036616          0.290893   \n",
       "Iframe                                 0.016581          0.284410   \n",
       "age_of_domain                         -0.052596         -0.005499   \n",
       "DNSRecord                              0.436064         -0.047872   \n",
       "web_traffic                           -0.047074          0.032918   \n",
       "Page_Rank                              0.014591         -0.064735   \n",
       "Google_Index                           0.155844          0.037061   \n",
       "Links_pointing_to_page                -0.198410         -0.006080   \n",
       "Statistical_report                     0.085461         -0.080357   \n",
       "Result                                -0.067966          0.052948   \n",
       "\n",
       "                             double_slash_redirecting  Prefix_Suffix  \\\n",
       "having_IPhaving_IP_Address                   0.397389      -0.005257   \n",
       "URLURL_Length                               -0.081247       0.055247   \n",
       "Shortining_Service                           0.842796      -0.080471   \n",
       "having_At_Symbol                             0.086960      -0.011726   \n",
       "double_slash_redirecting                     1.000000      -0.085590   \n",
       "Prefix_Suffix                               -0.085590       1.000000   \n",
       "having_Sub_Domain                           -0.043079       0.087891   \n",
       "SSLfinal_State                              -0.036200       0.261391   \n",
       "Domain_registeration_length                  0.047464      -0.096799   \n",
       "Favicon                                      0.035100      -0.007504   \n",
       "port                                         0.025060      -0.022546   \n",
       "HTTPS_token                                  0.760799      -0.070153   \n",
       "Request_URL                                 -0.026368       0.098675   \n",
       "URL_of_Anchor                               -0.005036       0.348871   \n",
       "Links_in_tags                               -0.125583       0.100254   \n",
       "SFH                                         -0.041672       0.001326   \n",
       "Submitting_to_email                          0.031898      -0.045000   \n",
       "Abnormal_URL                                 0.723724      -0.077620   \n",
       "Redirect                                    -0.591478       0.016271   \n",
       "on_mouseover                                 0.086635       0.012578   \n",
       "RightClick                                   0.025863      -0.024868   \n",
       "popUpWidnow                                  0.054463      -0.014733   \n",
       "Iframe                                       0.010459      -0.036904   \n",
       "age_of_domain                               -0.050107       0.074116   \n",
       "DNSRecord                                    0.431409      -0.016556   \n",
       "web_traffic                                 -0.062369       0.110598   \n",
       "Page_Rank                                   -0.003132      -0.006834   \n",
       "Google_Index                                 0.178415       0.067781   \n",
       "Links_pointing_to_page                      -0.194165       0.067423   \n",
       "Statistical_report                           0.070390      -0.002763   \n",
       "Result                                      -0.038608       0.348606   \n",
       "\n",
       "                             having_Sub_Domain  SSLfinal_State  \\\n",
       "having_IPhaving_IP_Address           -0.080745        0.071414   \n",
       "URLURL_Length                         0.003997        0.048754   \n",
       "Shortining_Service                   -0.041916       -0.061426   \n",
       "having_At_Symbol                     -0.058976        0.031220   \n",
       "double_slash_redirecting             -0.043079       -0.036200   \n",
       "Prefix_Suffix                         0.087891        0.261391   \n",
       "having_Sub_Domain                     1.000000        0.267649   \n",
       "SSLfinal_State                        0.267649        1.000000   \n",
       "Domain_registeration_length          -0.082839       -0.193622   \n",
       "Favicon                              -0.016704       -0.014757   \n",
       "port                                  0.004863        0.027473   \n",
       "HTTPS_token                          -0.037239       -0.029941   \n",
       "Request_URL                           0.104857        0.193054   \n",
       "URL_of_Anchor                         0.229491        0.535786   \n",
       "Links_in_tags                         0.093646        0.176825   \n",
       "SFH                                   0.096089        0.171402   \n",
       "Submitting_to_email                   0.008830        0.008062   \n",
       "Abnormal_URL                         -0.034908       -0.046245   \n",
       "Redirect                              0.031206       -0.021070   \n",
       "on_mouseover                         -0.018082        0.023586   \n",
       "RightClick                            0.018230        0.015854   \n",
       "popUpWidnow                          -0.025312       -0.013005   \n",
       "Iframe                                0.010637       -0.002773   \n",
       "age_of_domain                         0.119254        0.162809   \n",
       "DNSRecord                             0.125493        0.050972   \n",
       "web_traffic                          -0.005764        0.258768   \n",
       "Page_Rank                             0.120730        0.074545   \n",
       "Google_Index                          0.057673        0.096051   \n",
       "Links_pointing_to_page               -0.010526       -0.011710   \n",
       "Statistical_report                    0.081627        0.063411   \n",
       "Result                                0.298323        0.714741   \n",
       "\n",
       "                             Domain_registeration_length   Favicon  ...  \\\n",
       "having_IPhaving_IP_Address                     -0.022739  0.087025  ...   \n",
       "URLURL_Length                                  -0.221892 -0.042497  ...   \n",
       "Shortining_Service                              0.060923  0.006101  ...   \n",
       "having_At_Symbol                                0.015522  0.304899  ...   \n",
       "double_slash_redirecting                        0.047464  0.035100  ...   \n",
       "Prefix_Suffix                                  -0.096799 -0.007504  ...   \n",
       "having_Sub_Domain                              -0.082839 -0.016704  ...   \n",
       "SSLfinal_State                                 -0.193622 -0.014757  ...   \n",
       "Domain_registeration_length                     1.000000  0.054253  ...   \n",
       "Favicon                                         0.054253  1.000000  ...   \n",
       "port                                            0.022478  0.803834  ...   \n",
       "HTTPS_token                                     0.059161  0.049483  ...   \n",
       "Request_URL                                    -0.609970 -0.004620  ...   \n",
       "URL_of_Anchor                                  -0.160257  0.037698  ...   \n",
       "Links_in_tags                                  -0.101084 -0.100341  ...   \n",
       "SFH                                            -0.136422 -0.012279  ...   \n",
       "Submitting_to_email                             0.039260  0.668317  ...   \n",
       "Abnormal_URL                                    0.058109  0.071848  ...   \n",
       "Redirect                                       -0.016300 -0.015621  ...   \n",
       "on_mouseover                                    0.023784  0.706179  ...   \n",
       "RightClick                                      0.023520  0.414382  ...   \n",
       "popUpWidnow                                     0.051410  0.939633  ...   \n",
       "Iframe                                          0.004393  0.627607  ...   \n",
       "age_of_domain                                  -0.062851 -0.002628  ...   \n",
       "DNSRecord                                      -0.010477  0.088211  ...   \n",
       "web_traffic                                    -0.134454 -0.050922  ...   \n",
       "Page_Rank                                      -0.059898  0.011699  ...   \n",
       "Google_Index                                   -0.039766 -0.016668  ...   \n",
       "Links_pointing_to_page                          0.122672 -0.127243  ...   \n",
       "Statistical_report                             -0.002212  0.300917  ...   \n",
       "Result                                         -0.225789 -0.000280  ...   \n",
       "\n",
       "                             popUpWidnow    Iframe  age_of_domain  DNSRecord  \\\n",
       "having_IPhaving_IP_Address      0.096882  0.054694      -0.010446  -0.050733   \n",
       "URLURL_Length                  -0.049381 -0.013838       0.179426  -0.040823   \n",
       "Shortining_Service              0.036616  0.016581      -0.052596   0.436064   \n",
       "having_At_Symbol                0.290893  0.284410      -0.005499  -0.047872   \n",
       "double_slash_redirecting        0.054463  0.010459      -0.050107   0.431409   \n",
       "Prefix_Suffix                  -0.014733 -0.036904       0.074116  -0.016556   \n",
       "having_Sub_Domain              -0.025312  0.010637       0.119254   0.125493   \n",
       "SSLfinal_State                 -0.013005 -0.002773       0.162809   0.050972   \n",
       "Domain_registeration_length     0.051410  0.004393      -0.062851  -0.010477   \n",
       "Favicon                         0.939633  0.627607      -0.002628   0.088211   \n",
       "port                            0.748517  0.687044       0.008459   0.054849   \n",
       "HTTPS_token                     0.066957  0.017509      -0.049632   0.395387   \n",
       "Request_URL                    -0.004622  0.016934       0.090455   0.015933   \n",
       "URL_of_Anchor                   0.041150  0.013403       0.075508   0.093288   \n",
       "Links_in_tags                  -0.112282 -0.070030       0.078057  -0.038545   \n",
       "SFH                            -0.004863  0.007067      -0.015840   0.034440   \n",
       "Submitting_to_email             0.629462  0.577490       0.007357   0.064145   \n",
       "Abnormal_URL                    0.091188  0.017590      -0.032533   0.366833   \n",
       "Redirect                       -0.026327 -0.012668      -0.022476  -0.211096   \n",
       "on_mouseover                    0.733629  0.659478       0.013306   0.087161   \n",
       "RightClick                      0.415268  0.655863       0.006764   0.038255   \n",
       "popUpWidnow                     1.000000  0.629406      -0.000948   0.098658   \n",
       "Iframe                          0.629406  1.000000       0.018848   0.047293   \n",
       "age_of_domain                  -0.000948  0.018848       1.000000  -0.034082   \n",
       "DNSRecord                       0.098658  0.047293      -0.034082   1.000000   \n",
       "web_traffic                    -0.043190 -0.022080       0.089949   0.048650   \n",
       "Page_Rank                       0.017114  0.022407      -0.147194   0.137860   \n",
       "Google_Index                   -0.010256 -0.003519      -0.028471   0.137509   \n",
       "Links_pointing_to_page         -0.121325 -0.140824       0.040407  -0.318266   \n",
       "Statistical_report              0.285261  0.268418       0.009115   0.136860   \n",
       "Result                          0.000086 -0.003394       0.121496   0.075718   \n",
       "\n",
       "                             web_traffic  Page_Rank  Google_Index  \\\n",
       "having_IPhaving_IP_Address      0.002922  -0.091774      0.029153   \n",
       "URLURL_Length                   0.008993   0.183518      0.002902   \n",
       "Shortining_Service             -0.047074   0.014591      0.155844   \n",
       "having_At_Symbol                0.032918  -0.064735      0.037061   \n",
       "double_slash_redirecting       -0.062369  -0.003132      0.178415   \n",
       "Prefix_Suffix                   0.110598  -0.006834      0.067781   \n",
       "having_Sub_Domain              -0.005764   0.120730      0.057673   \n",
       "SSLfinal_State                  0.258768   0.074545      0.096051   \n",
       "Domain_registeration_length    -0.134454  -0.059898     -0.039766   \n",
       "Favicon                        -0.050922   0.011699     -0.016668   \n",
       "port                           -0.028543   0.017954     -0.005413   \n",
       "HTTPS_token                    -0.039708   0.021104      0.115450   \n",
       "Request_URL                     0.161166   0.055734      0.046409   \n",
       "URL_of_Anchor                   0.326293   0.099261      0.038816   \n",
       "Links_in_tags                   0.064548  -0.006450      0.045557   \n",
       "SFH                             0.052706   0.001979      0.027588   \n",
       "Submitting_to_email            -0.015685   0.026208     -0.008378   \n",
       "Abnormal_URL                   -0.052416   0.007318      0.124751   \n",
       "Redirect                        0.004631   0.052867      0.057230   \n",
       "on_mouseover                   -0.036531   0.015634     -0.006510   \n",
       "RightClick                     -0.013594   0.025341     -0.008066   \n",
       "popUpWidnow                    -0.043190   0.017114     -0.010256   \n",
       "Iframe                         -0.022080   0.022407     -0.003519   \n",
       "age_of_domain                   0.089949  -0.147194     -0.028471   \n",
       "DNSRecord                       0.048650   0.137860      0.137509   \n",
       "web_traffic                     1.000000   0.030984     -0.012584   \n",
       "Page_Rank                       0.030984   1.000000      0.032431   \n",
       "Google_Index                   -0.012584   0.032431      1.000000   \n",
       "Links_pointing_to_page         -0.019860  -0.028216     -0.038777   \n",
       "Statistical_report              0.009223   0.031049     -0.005103   \n",
       "Result                          0.346103   0.104645      0.128950   \n",
       "\n",
       "                             Links_pointing_to_page  Statistical_report  \\\n",
       "having_IPhaving_IP_Address                -0.339065           -0.019103   \n",
       "URLURL_Length                             -0.022987           -0.067153   \n",
       "Shortining_Service                        -0.198410            0.085461   \n",
       "having_At_Symbol                          -0.006080           -0.080357   \n",
       "double_slash_redirecting                  -0.194165            0.070390   \n",
       "Prefix_Suffix                              0.067423           -0.002763   \n",
       "having_Sub_Domain                         -0.010526            0.081627   \n",
       "SSLfinal_State                            -0.011710            0.063411   \n",
       "Domain_registeration_length                0.122672           -0.002212   \n",
       "Favicon                                   -0.127243            0.300917   \n",
       "port                                      -0.139104            0.343987   \n",
       "HTTPS_token                               -0.128724            0.096187   \n",
       "Request_URL                               -0.067109            0.035412   \n",
       "URL_of_Anchor                              0.018651            0.077377   \n",
       "Links_in_tags                              0.013561           -0.087343   \n",
       "SFH                                       -0.009068           -0.005289   \n",
       "Submitting_to_email                       -0.039956            0.352074   \n",
       "Abnormal_URL                              -0.161027            0.186399   \n",
       "Redirect                                   0.161278           -0.059194   \n",
       "on_mouseover                              -0.038551            0.277347   \n",
       "RightClick                                -0.119831            0.204409   \n",
       "popUpWidnow                               -0.121325            0.285261   \n",
       "Iframe                                    -0.140824            0.268418   \n",
       "age_of_domain                              0.040407            0.009115   \n",
       "DNSRecord                                 -0.318266            0.136860   \n",
       "web_traffic                               -0.019860            0.009223   \n",
       "Page_Rank                                 -0.028216            0.031049   \n",
       "Google_Index                              -0.038777           -0.005103   \n",
       "Links_pointing_to_page                     1.000000           -0.016817   \n",
       "Statistical_report                        -0.016817            1.000000   \n",
       "Result                                     0.032574            0.079857   \n",
       "\n",
       "                               Result  \n",
       "having_IPhaving_IP_Address   0.094160  \n",
       "URLURL_Length                0.057430  \n",
       "Shortining_Service          -0.067966  \n",
       "having_At_Symbol             0.052948  \n",
       "double_slash_redirecting    -0.038608  \n",
       "Prefix_Suffix                0.348606  \n",
       "having_Sub_Domain            0.298323  \n",
       "SSLfinal_State               0.714741  \n",
       "Domain_registeration_length -0.225789  \n",
       "Favicon                     -0.000280  \n",
       "port                         0.036419  \n",
       "HTTPS_token                 -0.039854  \n",
       "Request_URL                  0.253372  \n",
       "URL_of_Anchor                0.692935  \n",
       "Links_in_tags                0.248229  \n",
       "SFH                          0.221419  \n",
       "Submitting_to_email          0.018249  \n",
       "Abnormal_URL                -0.060488  \n",
       "Redirect                    -0.020113  \n",
       "on_mouseover                 0.041838  \n",
       "RightClick                   0.012653  \n",
       "popUpWidnow                  0.000086  \n",
       "Iframe                      -0.003394  \n",
       "age_of_domain                0.121496  \n",
       "DNSRecord                    0.075718  \n",
       "web_traffic                  0.346103  \n",
       "Page_Rank                    0.104645  \n",
       "Google_Index                 0.128950  \n",
       "Links_pointing_to_page       0.032574  \n",
       "Statistical_report           0.079857  \n",
       "Result                       1.000000  \n",
       "\n",
       "[31 rows x 31 columns]"
      ]
     },
     "execution_count": 19,
     "metadata": {},
     "output_type": "execute_result"
    }
   ],
   "source": [
    "# Generate correlation matrix\n",
    "data.corr() "
   ]
  },
  {
   "cell_type": "code",
   "execution_count": 29,
   "metadata": {
    "colab": {
     "base_uri": "https://localhost:8080/",
     "height": 947
    },
    "executionInfo": {
     "elapsed": 2473,
     "status": "ok",
     "timestamp": 1671374544124,
     "user": {
      "displayName": "Shan Thiagarajan",
      "userId": "07848716946087442606"
     },
     "user_tz": -330
    },
    "id": "UX9NVwMEyuFk",
    "outputId": "61f4b5c6-56b9-4f79-eaf7-3618d86162d1"
   },
   "outputs": [
    {
     "data": {
      "image/png": "[encoded data removed]",
      "text/plain": [
       "<Figure size 1296x1296 with 2 Axes>"
      ]
     },
     "metadata": {},
     "output_type": "display_data"
    }
   ],
   "source": [
    "## Checkingthe correlation using heatmap.  Let us use the threshold to check the correlated features.\n",
    "## Threshold = .90\n",
    "plt.figure(figsize =(18,18))\n",
    "cor = abs(data.corr())\n",
    "sns.heatmap(cor[cor > .90], annot=True) \n",
    "plt.show()"
   ]
  },
  {
   "cell_type": "markdown",
   "metadata": {
    "id": "4exha2OOyuFk"
   },
   "source": [
    "Note that feature popUpWindow and favicon are highly correlated. Looking at the definitions of these features from the Data description, we can say that, for websites where favicon is loaded from external links the pop-up window mostly contains text field. This is said just by seeing the high correlation. Dropping one of the features or not is an experimental decision"
   ]
  },
  {
   "cell_type": "markdown",
   "metadata": {
    "id": "RtUIddmeyuFk"
   },
   "source": [
    "Note that some features are negatively correlated but the color index minimum correlation is upto -0.6. Negative correlations are where one feature marks it as phishing and other don't."
   ]
  },
  {
   "cell_type": "code",
   "execution_count": 25,
   "metadata": {
    "colab": {
     "base_uri": "https://localhost:8080/"
    },
    "executionInfo": {
     "elapsed": 345,
     "status": "ok",
     "timestamp": 1671360084495,
     "user": {
      "displayName": "Shan Thiagarajan",
      "userId": "07848716946087442606"
     },
     "user_tz": -330
    },
    "id": "nnhehHfxyuFk",
    "outputId": "d8005b9d-2b75-421f-8f4c-691db2a979d3"
   },
   "outputs": [
    {
     "data": {
      "text/plain": [
       "Domain_registeration_length   -0.225789\n",
       "Shortining_Service            -0.067966\n",
       "Abnormal_URL                  -0.060488\n",
       "HTTPS_token                   -0.039854\n",
       "double_slash_redirecting      -0.038608\n",
       "Redirect                      -0.020113\n",
       "Iframe                        -0.003394\n",
       "Favicon                       -0.000280\n",
       "popUpWidnow                    0.000086\n",
       "RightClick                     0.012653\n",
       "Submitting_to_email            0.018249\n",
       "Links_pointing_to_page         0.032574\n",
       "port                           0.036419\n",
       "on_mouseover                   0.041838\n",
       "having_At_Symbol               0.052948\n",
       "URLURL_Length                  0.057430\n",
       "DNSRecord                      0.075718\n",
       "Statistical_report             0.079857\n",
       "having_IPhaving_IP_Address     0.094160\n",
       "Page_Rank                      0.104645\n",
       "age_of_domain                  0.121496\n",
       "Google_Index                   0.128950\n",
       "SFH                            0.221419\n",
       "Links_in_tags                  0.248229\n",
       "Request_URL                    0.253372\n",
       "having_Sub_Domain              0.298323\n",
       "web_traffic                    0.346103\n",
       "Prefix_Suffix                  0.348606\n",
       "URL_of_Anchor                  0.692935\n",
       "SSLfinal_State                 0.714741\n",
       "Result                         1.000000\n",
       "Name: Result, dtype: float64"
      ]
     },
     "execution_count": 25,
     "metadata": {},
     "output_type": "execute_result"
    }
   ],
   "source": [
    "# Print correlation with target variable\n",
    "data.corr()['Result'].sort_values()    "
   ]
  },
  {
   "cell_type": "markdown",
   "metadata": {
    "id": "XGdrxLfNyuFk"
   },
   "source": [
    "Let we just select those volumns which is relavent in the better model making.\n",
    "\n",
    "## Separating the data as features and target."
   ]
  },
  {
   "cell_type": "code",
   "execution_count": 30,
   "metadata": {
    "executionInfo": {
     "elapsed": 335,
     "status": "ok",
     "timestamp": 1671374632662,
     "user": {
      "displayName": "Shan Thiagarajan",
      "userId": "07848716946087442606"
     },
     "user_tz": -330
    },
    "id": "iQS78uCMyuFk"
   },
   "outputs": [],
   "source": [
    "X = data.iloc[:,[0, 1, 2, 3, 4, 5, 6, 8, 9, 11, 12, 13, 14, 15, 16, 17, 22, 23, 24, 25, 27, 29]].values\n",
    "y = data.iloc[:,-1].values"
   ]
  },
  {
   "cell_type": "code",
   "execution_count": 31,
   "metadata": {
    "executionInfo": {
     "elapsed": 2,
     "status": "ok",
     "timestamp": 1671374671294,
     "user": {
      "displayName": "Shan Thiagarajan",
      "userId": "07848716946087442606"
     },
     "user_tz": -330
    },
    "id": "KmrHnKJUyuFk"
   },
   "outputs": [],
   "source": [
    "## Splitting the data.\n",
    "## 80% for Training and 20% for Testing.\n",
    "X_train, X_test, y_train, y_test = train_test_split(X, y, test_size=0.2, random_state=42)"
   ]
  },
  {
   "cell_type": "markdown",
   "metadata": {
    "id": "QZoMBxrmyuFl"
   },
   "source": [
    "## Task 3: Building classification:"
   ]
  },
  {
   "cell_type": "code",
   "execution_count": 38,
   "metadata": {
    "colab": {
     "base_uri": "https://localhost:8080/"
    },
    "executionInfo": {
     "elapsed": 621,
     "status": "ok",
     "timestamp": 1671375339564,
     "user": {
      "displayName": "Shan Thiagarajan",
      "userId": "07848716946087442606"
     },
     "user_tz": -330
    },
    "id": "5sZgc2d1uoOs",
    "outputId": "31837a3a-b072-4ce8-812b-ef148c535055"
   },
   "outputs": [
    {
     "name": "stdout",
     "output_type": "stream",
     "text": [
      "              precision    recall  f1-score   support\n",
      "\n",
      "          -1       0.86      0.87      0.86       950\n",
      "           1       0.90      0.89      0.90      1261\n",
      "\n",
      "    accuracy                           0.88      2211\n",
      "   macro avg       0.88      0.88      0.88      2211\n",
      "weighted avg       0.88      0.88      0.88      2211\n",
      "\n"
     ]
    }
   ],
   "source": [
    "## Independent Logistic Regression Model\n",
    "lr = LogisticRegression()\n",
    "\n",
    "lr.fit(X_train, y_train)\n",
    "y_pred = lr.predict(X_test)\n",
    "\n",
    "## Model Metrics\n",
    "print(classification_report(y_pred, y_test))"
   ]
  },
  {
   "cell_type": "code",
   "execution_count": 40,
   "metadata": {
    "colab": {
     "base_uri": "https://localhost:8080/"
    },
    "executionInfo": {
     "elapsed": 968,
     "status": "ok",
     "timestamp": 1671375952420,
     "user": {
      "displayName": "Shan Thiagarajan",
      "userId": "07848716946087442606"
     },
     "user_tz": -330
    },
    "id": "rJ1EVi6vw_l5",
    "outputId": "85d44d59-295a-4407-9301-73a08f6ee361"
   },
   "outputs": [
    {
     "name": "stdout",
     "output_type": "stream",
     "text": [
      "              precision    recall  f1-score   support\n",
      "\n",
      "          -1       0.92      0.94      0.93       929\n",
      "           1       0.96      0.94      0.95      1282\n",
      "\n",
      "    accuracy                           0.94      2211\n",
      "   macro avg       0.94      0.94      0.94      2211\n",
      "weighted avg       0.94      0.94      0.94      2211\n",
      "\n"
     ]
    }
   ],
   "source": [
    "## Independent RF Model\n",
    "rf = RandomForestClassifier()\n",
    "\n",
    "rf.fit(X_train, y_train)\n",
    "y_rf_pred = rf.predict(X_test)\n",
    "\n",
    "## Model Metrics\n",
    "print(classification_report(y_rf_pred, y_test))"
   ]
  },
  {
   "cell_type": "code",
   "execution_count": 33,
   "metadata": {
    "executionInfo": {
     "elapsed": 347,
     "status": "ok",
     "timestamp": 1671374772647,
     "user": {
      "displayName": "Shan Thiagarajan",
      "userId": "07848716946087442606"
     },
     "user_tz": -330
    },
    "id": "d3GZDAiUyuFl"
   },
   "outputs": [],
   "source": [
    "# Spot Check Algorithms\n",
    "models = []\n",
    "models.append(('LR', LogisticRegression()))\n",
    "models.append(('LDA', LinearDiscriminantAnalysis()))\n",
    "models.append(('KNN', KNeighborsClassifier()))\n",
    "models.append(('CART', DecisionTreeClassifier()))\n",
    "models.append(('NB', GaussianNB()))\n",
    "models.append(('SVM', SVC(kernel = 'rbf')))\n",
    "models.append(('RF', RandomForestClassifier()))\n",
    "models.append(('XGB',XGBClassifier(learning_rate=0.02, n_estimators=600, objective='binary:logistic', nthread=1)))"
   ]
  },
  {
   "cell_type": "code",
   "execution_count": 34,
   "metadata": {
    "colab": {
     "base_uri": "https://localhost:8080/"
    },
    "executionInfo": {
     "elapsed": 3,
     "status": "ok",
     "timestamp": 1671374780715,
     "user": {
      "displayName": "Shan Thiagarajan",
      "userId": "07848716946087442606"
     },
     "user_tz": -330
    },
    "id": "0jxS4HpAsyHd",
    "outputId": "e30b5adf-be4c-478f-a9e0-9aaf80f7d4b7"
   },
   "outputs": [
    {
     "name": "stdout",
     "output_type": "stream",
     "text": [
      "[('LR', LogisticRegression()), ('LDA', LinearDiscriminantAnalysis()), ('KNN', KNeighborsClassifier()), ('CART', DecisionTreeClassifier()), ('NB', GaussianNB()), ('SVM', SVC()), ('RF', RandomForestClassifier()), ('XGB', XGBClassifier(learning_rate=0.02, n_estimators=600, nthread=1))]\n"
     ]
    }
   ],
   "source": [
    "print(models)"
   ]
  },
  {
   "cell_type": "code",
   "execution_count": 39,
   "metadata": {
    "colab": {
     "base_uri": "https://localhost:8080/"
    },
    "executionInfo": {
     "elapsed": 25803,
     "status": "ok",
     "timestamp": 1671375675288,
     "user": {
      "displayName": "Shan Thiagarajan",
      "userId": "07848716946087442606"
     },
     "user_tz": -330
    },
    "id": "Mr0qPVelyuFl",
    "outputId": "10817f35-f9a6-4e7a-f516-248ea5f1e938"
   },
   "outputs": [
    {
     "name": "stdout",
     "output_type": "stream",
     "text": [
      "Model Name: LR, Mean Accuracy:  0.884667, Standard Error:  (0.005089)\n",
      "Model Name: LDA, Mean Accuracy:  0.877996, Standard Error:  (0.006552)\n",
      "Model Name: KNN, Mean Accuracy:  0.892017, Standard Error:  (0.010337)\n",
      "Model Name: CART, Mean Accuracy:  0.924920, Standard Error:  (0.006923)\n",
      "Model Name: NB, Mean Accuracy:  0.584013, Standard Error:  (0.012423)\n",
      "Model Name: SVM, Mean Accuracy:  0.917231, Standard Error:  (0.005319)\n",
      "Model Name: RF, Mean Accuracy:  0.933062, Standard Error:  (0.007284)\n",
      "Model Name: XGB, Mean Accuracy:  0.913048, Standard Error:  (0.007532)\n"
     ]
    }
   ],
   "source": [
    "# evaluate each model in turn\n",
    "results = []\n",
    "names = []\n",
    "seed = 42\n",
    "scoring = 'accuracy'\n",
    "for name, model in models:\n",
    "    kfold = KFold(n_splits=5, shuffle = True,random_state=seed)\n",
    "    cv_results = cross_val_score(model, X_train, y_train, cv=kfold, scoring=scoring)\n",
    "    results.append(cv_results)\n",
    "    names.append(name)\n",
    "    msg = \"Model Name: %s, Mean Accuracy:  %f, Standard Error:  (%f)\" % (name, cv_results.mean(), cv_results.std())\n",
    "    print(msg)"
   ]
  },
  {
   "cell_type": "code",
   "execution_count": null,
   "metadata": {
    "id": "RFyT_kF3yuFl",
    "outputId": "b1ec9bbd-4e86-4b05-be32-32b27c0c3d31"
   },
   "outputs": [
    {
     "data": {
      "text/plain": [
       "(8844, 22)"
      ]
     },
     "execution_count": 24,
     "metadata": {},
     "output_type": "execute_result"
    }
   ],
   "source": [
    "X_train.shape"
   ]
  },
  {
   "cell_type": "code",
   "execution_count": 41,
   "metadata": {
    "executionInfo": {
     "elapsed": 340,
     "status": "ok",
     "timestamp": 1671376447436,
     "user": {
      "displayName": "Shan Thiagarajan",
      "userId": "07848716946087442606"
     },
     "user_tz": -330
    },
    "id": "HeQ2L70dyuFl"
   },
   "outputs": [],
   "source": [
    "def baseline_model():\n",
    "    # create model\n",
    "    model = Sequential()\n",
    "    model.add(Dense(50, input_dim=22, activation='relu'))\n",
    "    model.add(Dense(40,activation='relu'))\n",
    "    model.add(Dense(30,activation='relu'))\n",
    "    model.add(Dense(20,activation='relu'))\n",
    "    model.add(Dense(10,activation='relu'))\n",
    "    model.add(Dense(1, activation='sigmoid'))\n",
    "    # Compile model\n",
    "    model.compile(loss='binary_crossentropy', optimizer='adam', metrics=['accuracy'])\n",
    "    return model"
   ]
  },
  {
   "cell_type": "code",
   "execution_count": 42,
   "metadata": {
    "colab": {
     "base_uri": "https://localhost:8080/"
    },
    "executionInfo": {
     "elapsed": 365,
     "status": "ok",
     "timestamp": 1671376452458,
     "user": {
      "displayName": "Shan Thiagarajan",
      "userId": "07848716946087442606"
     },
     "user_tz": -330
    },
    "id": "6yImqFsUyuFl",
    "outputId": "256af3c3-8d8a-4d70-be16-2da05ee58c3b"
   },
   "outputs": [
    {
     "data": {
      "text/plain": [
       "array([-1,  1])"
      ]
     },
     "execution_count": 42,
     "metadata": {},
     "output_type": "execute_result"
    }
   ],
   "source": [
    "np.unique(y_train)"
   ]
  },
  {
   "cell_type": "code",
   "execution_count": 43,
   "metadata": {
    "colab": {
     "base_uri": "https://localhost:8080/"
    },
    "executionInfo": {
     "elapsed": 259884,
     "status": "ok",
     "timestamp": 1671376748701,
     "user": {
      "displayName": "Shan Thiagarajan",
      "userId": "07848716946087442606"
     },
     "user_tz": -330
    },
    "id": "px7nd7v4yuFl",
    "outputId": "3dbf852e-6830-48d7-f5c5-64f1f32a6e6b"
   },
   "outputs": [
    {
     "name": "stderr",
     "output_type": "stream",
     "text": [
      "<ipython-input-43-8ac46761ac1d>:1: DeprecationWarning: KerasClassifier is deprecated, use Sci-Keras (https://github.com/adriangb/scikeras) instead. See https://www.adriangb.com/scikeras/stable/migration.html for help migrating.\n",
      "  estimator = KerasClassifier(build_fn=baseline_model, epochs=50, batch_size=20, verbose=1)\n"
     ]
    },
    {
     "name": "stdout",
     "output_type": "stream",
     "text": [
      "Epoch 1/50\n",
      "354/354 [==============================] - 2s 2ms/step - loss: 0.3244 - accuracy: 0.8570\n",
      "Epoch 2/50\n",
      "354/354 [==============================] - 1s 2ms/step - loss: 0.2205 - accuracy: 0.9042\n",
      "Epoch 3/50\n",
      "354/354 [==============================] - 1s 2ms/step - loss: 0.1981 - accuracy: 0.9142\n",
      "Epoch 4/50\n",
      "354/354 [==============================] - 1s 2ms/step - loss: 0.1835 - accuracy: 0.9206\n",
      "Epoch 5/50\n",
      "354/354 [==============================] - 1s 2ms/step - loss: 0.1768 - accuracy: 0.9223\n",
      "Epoch 6/50\n",
      "354/354 [==============================] - 1s 2ms/step - loss: 0.1688 - accuracy: 0.9247\n",
      "Epoch 7/50\n",
      "354/354 [==============================] - 1s 2ms/step - loss: 0.1605 - accuracy: 0.9300\n",
      "Epoch 8/50\n",
      "354/354 [==============================] - 1s 2ms/step - loss: 0.1535 - accuracy: 0.9339\n",
      "Epoch 9/50\n",
      "354/354 [==============================] - 1s 2ms/step - loss: 0.1500 - accuracy: 0.9312\n",
      "Epoch 10/50\n",
      "354/354 [==============================] - 1s 2ms/step - loss: 0.1471 - accuracy: 0.9355\n",
      "Epoch 11/50\n",
      "354/354 [==============================] - 1s 2ms/step - loss: 0.1370 - accuracy: 0.9378\n",
      "Epoch 12/50\n",
      "354/354 [==============================] - 1s 2ms/step - loss: 0.1374 - accuracy: 0.9405\n",
      "Epoch 13/50\n",
      "354/354 [==============================] - 1s 2ms/step - loss: 0.1311 - accuracy: 0.9442\n",
      "Epoch 14/50\n",
      "354/354 [==============================] - 1s 2ms/step - loss: 0.1252 - accuracy: 0.9439\n",
      "Epoch 15/50\n",
      "354/354 [==============================] - 1s 2ms/step - loss: 0.1216 - accuracy: 0.9473\n",
      "Epoch 16/50\n",
      "354/354 [==============================] - 1s 2ms/step - loss: 0.1205 - accuracy: 0.9501\n",
      "Epoch 17/50\n",
      "354/354 [==============================] - 1s 2ms/step - loss: 0.1162 - accuracy: 0.9464\n",
      "Epoch 18/50\n",
      "354/354 [==============================] - 1s 2ms/step - loss: 0.1171 - accuracy: 0.9501\n",
      "Epoch 19/50\n",
      "354/354 [==============================] - 1s 2ms/step - loss: 0.1137 - accuracy: 0.9480\n",
      "Epoch 20/50\n",
      "354/354 [==============================] - 1s 2ms/step - loss: 0.1084 - accuracy: 0.9538\n",
      "Epoch 21/50\n",
      "354/354 [==============================] - 1s 2ms/step - loss: 0.1115 - accuracy: 0.9512\n",
      "Epoch 22/50\n",
      "354/354 [==============================] - 1s 2ms/step - loss: 0.1067 - accuracy: 0.9534\n",
      "Epoch 23/50\n",
      "354/354 [==============================] - 1s 2ms/step - loss: 0.1040 - accuracy: 0.9553\n",
      "Epoch 24/50\n",
      "354/354 [==============================] - 1s 2ms/step - loss: 0.1007 - accuracy: 0.9541\n",
      "Epoch 25/50\n",
      "354/354 [==============================] - 1s 2ms/step - loss: 0.0994 - accuracy: 0.9552\n",
      "Epoch 26/50\n",
      "354/354 [==============================] - 1s 2ms/step - loss: 0.1000 - accuracy: 0.9542\n",
      "Epoch 27/50\n",
      "354/354 [==============================] - 1s 2ms/step - loss: 0.0969 - accuracy: 0.9563\n",
      "Epoch 28/50\n",
      "354/354 [==============================] - 1s 2ms/step - loss: 0.0978 - accuracy: 0.9551\n",
      "Epoch 29/50\n",
      "354/354 [==============================] - 1s 2ms/step - loss: 0.0941 - accuracy: 0.9576\n",
      "Epoch 30/50\n",
      "354/354 [==============================] - 1s 2ms/step - loss: 0.0935 - accuracy: 0.9583\n",
      "Epoch 31/50\n",
      "354/354 [==============================] - 1s 2ms/step - loss: 0.0933 - accuracy: 0.9573\n",
      "Epoch 32/50\n",
      "354/354 [==============================] - 1s 2ms/step - loss: 0.0957 - accuracy: 0.9569\n",
      "Epoch 33/50\n",
      "354/354 [==============================] - 1s 2ms/step - loss: 0.0905 - accuracy: 0.9603\n",
      "Epoch 34/50\n",
      "354/354 [==============================] - 1s 2ms/step - loss: 0.0898 - accuracy: 0.9597\n",
      "Epoch 35/50\n",
      "354/354 [==============================] - 1s 2ms/step - loss: 0.0892 - accuracy: 0.9603\n",
      "Epoch 36/50\n",
      "354/354 [==============================] - 1s 2ms/step - loss: 0.0898 - accuracy: 0.9606\n",
      "Epoch 37/50\n",
      "354/354 [==============================] - 1s 2ms/step - loss: 0.0866 - accuracy: 0.9594\n",
      "Epoch 38/50\n",
      "354/354 [==============================] - 1s 2ms/step - loss: 0.0889 - accuracy: 0.9573\n",
      "Epoch 39/50\n",
      "354/354 [==============================] - 1s 2ms/step - loss: 0.0875 - accuracy: 0.9603\n",
      "Epoch 40/50\n",
      "354/354 [==============================] - 1s 2ms/step - loss: 0.0859 - accuracy: 0.9601\n",
      "Epoch 41/50\n",
      "354/354 [==============================] - 1s 2ms/step - loss: 0.0834 - accuracy: 0.9617\n",
      "Epoch 42/50\n",
      "354/354 [==============================] - 1s 2ms/step - loss: 0.0818 - accuracy: 0.9631\n",
      "Epoch 43/50\n",
      "354/354 [==============================] - 1s 2ms/step - loss: 0.0852 - accuracy: 0.9618\n",
      "Epoch 44/50\n",
      "354/354 [==============================] - 1s 2ms/step - loss: 0.0812 - accuracy: 0.9631\n",
      "Epoch 45/50\n",
      "354/354 [==============================] - 1s 2ms/step - loss: 0.0835 - accuracy: 0.9599\n",
      "Epoch 46/50\n",
      "354/354 [==============================] - 1s 2ms/step - loss: 0.0913 - accuracy: 0.9608\n",
      "Epoch 47/50\n",
      "354/354 [==============================] - 1s 2ms/step - loss: 0.0854 - accuracy: 0.9617\n",
      "Epoch 48/50\n",
      "354/354 [==============================] - 1s 2ms/step - loss: 0.0768 - accuracy: 0.9668\n",
      "Epoch 49/50\n",
      "354/354 [==============================] - 1s 2ms/step - loss: 0.0781 - accuracy: 0.9640\n",
      "Epoch 50/50\n",
      "354/354 [==============================] - 1s 2ms/step - loss: 0.0791 - accuracy: 0.9623\n",
      "89/89 [==============================] - 0s 1ms/step - loss: 0.2547 - accuracy: 0.9220\n",
      "Epoch 1/50\n",
      "354/354 [==============================] - 1s 2ms/step - loss: 0.3233 - accuracy: 0.8555\n",
      "Epoch 2/50\n",
      "354/354 [==============================] - 1s 2ms/step - loss: 0.2299 - accuracy: 0.8958\n",
      "Epoch 3/50\n",
      "354/354 [==============================] - 1s 2ms/step - loss: 0.2102 - accuracy: 0.9083\n",
      "Epoch 4/50\n",
      "354/354 [==============================] - 1s 2ms/step - loss: 0.1981 - accuracy: 0.9084\n",
      "Epoch 5/50\n",
      "354/354 [==============================] - 1s 2ms/step - loss: 0.1840 - accuracy: 0.9160\n",
      "Epoch 6/50\n",
      "354/354 [==============================] - 1s 2ms/step - loss: 0.1735 - accuracy: 0.9217\n",
      "Epoch 7/50\n",
      "354/354 [==============================] - 1s 2ms/step - loss: 0.1656 - accuracy: 0.9247\n",
      "Epoch 8/50\n",
      "354/354 [==============================] - 1s 2ms/step - loss: 0.1616 - accuracy: 0.9248\n",
      "Epoch 9/50\n",
      "354/354 [==============================] - 1s 2ms/step - loss: 0.1547 - accuracy: 0.9273\n",
      "Epoch 10/50\n",
      "354/354 [==============================] - 1s 2ms/step - loss: 0.1480 - accuracy: 0.9307\n",
      "Epoch 11/50\n",
      "354/354 [==============================] - 1s 2ms/step - loss: 0.1412 - accuracy: 0.9361\n",
      "Epoch 12/50\n",
      "354/354 [==============================] - 1s 2ms/step - loss: 0.1384 - accuracy: 0.9380\n",
      "Epoch 13/50\n",
      "354/354 [==============================] - 1s 2ms/step - loss: 0.1375 - accuracy: 0.9378\n",
      "Epoch 14/50\n",
      "354/354 [==============================] - 1s 2ms/step - loss: 0.1298 - accuracy: 0.9394\n",
      "Epoch 15/50\n",
      "354/354 [==============================] - 1s 2ms/step - loss: 0.1267 - accuracy: 0.9388\n",
      "Epoch 16/50\n",
      "354/354 [==============================] - 1s 2ms/step - loss: 0.1247 - accuracy: 0.9402\n",
      "Epoch 17/50\n",
      "354/354 [==============================] - 1s 2ms/step - loss: 0.1169 - accuracy: 0.9460\n",
      "Epoch 18/50\n",
      "354/354 [==============================] - 1s 2ms/step - loss: 0.1185 - accuracy: 0.9443\n",
      "Epoch 19/50\n",
      "354/354 [==============================] - 1s 2ms/step - loss: 0.1161 - accuracy: 0.9461\n",
      "Epoch 20/50\n",
      "354/354 [==============================] - 1s 2ms/step - loss: 0.1112 - accuracy: 0.9498\n",
      "Epoch 21/50\n",
      "354/354 [==============================] - 1s 2ms/step - loss: 0.1106 - accuracy: 0.9491\n",
      "Epoch 22/50\n",
      "354/354 [==============================] - 1s 2ms/step - loss: 0.1081 - accuracy: 0.9508\n",
      "Epoch 23/50\n",
      "354/354 [==============================] - 1s 2ms/step - loss: 0.1046 - accuracy: 0.9527\n",
      "Epoch 24/50\n",
      "354/354 [==============================] - 1s 2ms/step - loss: 0.1051 - accuracy: 0.9508\n",
      "Epoch 25/50\n",
      "354/354 [==============================] - 1s 2ms/step - loss: 0.1080 - accuracy: 0.9512\n",
      "Epoch 26/50\n",
      "354/354 [==============================] - 1s 2ms/step - loss: 0.1026 - accuracy: 0.9525\n",
      "Epoch 27/50\n",
      "354/354 [==============================] - 1s 2ms/step - loss: 0.0979 - accuracy: 0.9545\n",
      "Epoch 28/50\n",
      "354/354 [==============================] - 1s 2ms/step - loss: 0.1024 - accuracy: 0.9524\n",
      "Epoch 29/50\n",
      "354/354 [==============================] - 1s 2ms/step - loss: 0.0979 - accuracy: 0.9546\n",
      "Epoch 30/50\n",
      "354/354 [==============================] - 1s 2ms/step - loss: 0.0976 - accuracy: 0.9553\n",
      "Epoch 31/50\n",
      "354/354 [==============================] - 1s 2ms/step - loss: 0.0940 - accuracy: 0.9560\n",
      "Epoch 32/50\n",
      "354/354 [==============================] - 1s 2ms/step - loss: 0.0947 - accuracy: 0.9563\n",
      "Epoch 33/50\n",
      "354/354 [==============================] - 1s 2ms/step - loss: 0.0946 - accuracy: 0.9546\n",
      "Epoch 34/50\n",
      "354/354 [==============================] - 1s 2ms/step - loss: 0.0930 - accuracy: 0.9576\n",
      "Epoch 35/50\n",
      "354/354 [==============================] - 1s 2ms/step - loss: 0.0953 - accuracy: 0.9543\n",
      "Epoch 36/50\n",
      "354/354 [==============================] - 1s 2ms/step - loss: 0.0902 - accuracy: 0.9596\n",
      "Epoch 37/50\n",
      "354/354 [==============================] - 1s 2ms/step - loss: 0.0900 - accuracy: 0.9576\n",
      "Epoch 38/50\n",
      "354/354 [==============================] - 1s 2ms/step - loss: 0.0939 - accuracy: 0.9555\n",
      "Epoch 39/50\n",
      "354/354 [==============================] - 1s 2ms/step - loss: 0.0911 - accuracy: 0.9563\n",
      "Epoch 40/50\n",
      "354/354 [==============================] - 1s 2ms/step - loss: 0.0916 - accuracy: 0.9556\n",
      "Epoch 41/50\n",
      "354/354 [==============================] - 1s 2ms/step - loss: 0.0870 - accuracy: 0.9558\n",
      "Epoch 42/50\n",
      "354/354 [==============================] - 1s 2ms/step - loss: 0.0855 - accuracy: 0.9567\n",
      "Epoch 43/50\n",
      "354/354 [==============================] - 1s 2ms/step - loss: 0.0895 - accuracy: 0.9552\n",
      "Epoch 44/50\n",
      "354/354 [==============================] - 1s 2ms/step - loss: 0.0849 - accuracy: 0.9594\n",
      "Epoch 45/50\n",
      "354/354 [==============================] - 1s 2ms/step - loss: 0.0898 - accuracy: 0.9562\n",
      "Epoch 46/50\n",
      "354/354 [==============================] - 1s 3ms/step - loss: 0.0881 - accuracy: 0.9563\n",
      "Epoch 47/50\n",
      "354/354 [==============================] - 2s 6ms/step - loss: 0.0843 - accuracy: 0.9586\n",
      "Epoch 48/50\n",
      "354/354 [==============================] - 1s 3ms/step - loss: 0.0823 - accuracy: 0.9576\n",
      "Epoch 49/50\n",
      "354/354 [==============================] - 1s 2ms/step - loss: 0.0894 - accuracy: 0.9586\n",
      "Epoch 50/50\n",
      "354/354 [==============================] - 1s 2ms/step - loss: 0.0857 - accuracy: 0.9597\n",
      "89/89 [==============================] - 0s 1ms/step - loss: 0.1465 - accuracy: 0.9486\n",
      "Epoch 1/50\n",
      "354/354 [==============================] - 2s 2ms/step - loss: 0.3309 - accuracy: 0.8530\n",
      "Epoch 2/50\n",
      "354/354 [==============================] - 1s 3ms/step - loss: 0.2218 - accuracy: 0.9029\n",
      "Epoch 3/50\n",
      "354/354 [==============================] - 1s 2ms/step - loss: 0.1993 - accuracy: 0.9104\n",
      "Epoch 4/50\n",
      "354/354 [==============================] - 1s 2ms/step - loss: 0.1846 - accuracy: 0.9149\n",
      "Epoch 5/50\n",
      "354/354 [==============================] - 1s 2ms/step - loss: 0.1761 - accuracy: 0.9199\n",
      "Epoch 6/50\n",
      "354/354 [==============================] - 1s 2ms/step - loss: 0.1664 - accuracy: 0.9265\n",
      "Epoch 7/50\n",
      "354/354 [==============================] - 1s 2ms/step - loss: 0.1573 - accuracy: 0.9299\n",
      "Epoch 8/50\n",
      "354/354 [==============================] - 1s 2ms/step - loss: 0.1508 - accuracy: 0.9326\n",
      "Epoch 9/50\n",
      "354/354 [==============================] - 1s 2ms/step - loss: 0.1469 - accuracy: 0.9337\n",
      "Epoch 10/50\n",
      "354/354 [==============================] - 1s 2ms/step - loss: 0.1394 - accuracy: 0.9398\n",
      "Epoch 11/50\n",
      "354/354 [==============================] - 1s 2ms/step - loss: 0.1390 - accuracy: 0.9396\n",
      "Epoch 12/50\n",
      "354/354 [==============================] - 1s 2ms/step - loss: 0.1318 - accuracy: 0.9405\n",
      "Epoch 13/50\n",
      "354/354 [==============================] - 1s 2ms/step - loss: 0.1270 - accuracy: 0.9423\n",
      "Epoch 14/50\n",
      "354/354 [==============================] - 1s 2ms/step - loss: 0.1256 - accuracy: 0.9426\n",
      "Epoch 15/50\n",
      "354/354 [==============================] - 1s 2ms/step - loss: 0.1227 - accuracy: 0.9459\n",
      "Epoch 16/50\n",
      "354/354 [==============================] - 2s 6ms/step - loss: 0.1219 - accuracy: 0.9439\n",
      "Epoch 17/50\n",
      "354/354 [==============================] - 2s 6ms/step - loss: 0.1188 - accuracy: 0.9453\n",
      "Epoch 18/50\n",
      "354/354 [==============================] - 1s 2ms/step - loss: 0.1132 - accuracy: 0.9480\n",
      "Epoch 19/50\n",
      "354/354 [==============================] - 1s 2ms/step - loss: 0.1120 - accuracy: 0.9512\n",
      "Epoch 20/50\n",
      "354/354 [==============================] - 1s 2ms/step - loss: 0.1132 - accuracy: 0.9495\n",
      "Epoch 21/50\n",
      "354/354 [==============================] - 1s 2ms/step - loss: 0.1110 - accuracy: 0.9517\n",
      "Epoch 22/50\n",
      "354/354 [==============================] - 1s 2ms/step - loss: 0.1103 - accuracy: 0.9515\n",
      "Epoch 23/50\n",
      "354/354 [==============================] - 1s 2ms/step - loss: 0.1062 - accuracy: 0.9534\n",
      "Epoch 24/50\n",
      "354/354 [==============================] - 1s 2ms/step - loss: 0.1018 - accuracy: 0.9552\n",
      "Epoch 25/50\n",
      "354/354 [==============================] - 1s 2ms/step - loss: 0.1037 - accuracy: 0.9529\n",
      "Epoch 26/50\n",
      "354/354 [==============================] - 1s 2ms/step - loss: 0.0997 - accuracy: 0.9559\n",
      "Epoch 27/50\n",
      "354/354 [==============================] - 1s 2ms/step - loss: 0.1004 - accuracy: 0.9559\n",
      "Epoch 28/50\n",
      "354/354 [==============================] - 1s 2ms/step - loss: 0.0999 - accuracy: 0.9555\n",
      "Epoch 29/50\n",
      "354/354 [==============================] - 1s 2ms/step - loss: 0.0978 - accuracy: 0.9559\n",
      "Epoch 30/50\n",
      "354/354 [==============================] - 1s 2ms/step - loss: 0.0971 - accuracy: 0.9584\n",
      "Epoch 31/50\n",
      "354/354 [==============================] - 1s 2ms/step - loss: 0.0945 - accuracy: 0.9586\n",
      "Epoch 32/50\n",
      "354/354 [==============================] - 1s 2ms/step - loss: 0.0986 - accuracy: 0.9577\n",
      "Epoch 33/50\n",
      "354/354 [==============================] - 1s 2ms/step - loss: 0.0941 - accuracy: 0.9582\n",
      "Epoch 34/50\n",
      "354/354 [==============================] - 1s 2ms/step - loss: 0.0929 - accuracy: 0.9584\n",
      "Epoch 35/50\n",
      "354/354 [==============================] - 1s 2ms/step - loss: 0.0900 - accuracy: 0.9594\n",
      "Epoch 36/50\n",
      "354/354 [==============================] - 1s 2ms/step - loss: 0.0902 - accuracy: 0.9593\n",
      "Epoch 37/50\n",
      "354/354 [==============================] - 1s 2ms/step - loss: 0.0894 - accuracy: 0.9583\n",
      "Epoch 38/50\n",
      "354/354 [==============================] - 1s 2ms/step - loss: 0.0900 - accuracy: 0.9572\n",
      "Epoch 39/50\n",
      "354/354 [==============================] - 1s 2ms/step - loss: 0.0879 - accuracy: 0.9579\n",
      "Epoch 40/50\n",
      "354/354 [==============================] - 1s 2ms/step - loss: 0.0869 - accuracy: 0.9597\n",
      "Epoch 41/50\n",
      "354/354 [==============================] - 1s 2ms/step - loss: 0.0875 - accuracy: 0.9594\n",
      "Epoch 42/50\n",
      "354/354 [==============================] - 1s 2ms/step - loss: 0.0879 - accuracy: 0.9584\n",
      "Epoch 43/50\n",
      "354/354 [==============================] - 1s 2ms/step - loss: 0.0862 - accuracy: 0.9590\n",
      "Epoch 44/50\n",
      "354/354 [==============================] - 1s 2ms/step - loss: 0.0859 - accuracy: 0.9603\n",
      "Epoch 45/50\n",
      "354/354 [==============================] - 1s 2ms/step - loss: 0.0821 - accuracy: 0.9613\n",
      "Epoch 46/50\n",
      "354/354 [==============================] - 1s 2ms/step - loss: 0.0804 - accuracy: 0.9625\n",
      "Epoch 47/50\n",
      "354/354 [==============================] - 1s 2ms/step - loss: 0.0819 - accuracy: 0.9594\n",
      "Epoch 48/50\n",
      "354/354 [==============================] - 1s 4ms/step - loss: 0.0829 - accuracy: 0.9627\n",
      "Epoch 49/50\n",
      "354/354 [==============================] - 1s 4ms/step - loss: 0.0868 - accuracy: 0.9589\n",
      "Epoch 50/50\n",
      "354/354 [==============================] - 2s 6ms/step - loss: 0.0840 - accuracy: 0.9601\n",
      "89/89 [==============================] - 1s 8ms/step - loss: 0.1796 - accuracy: 0.9356\n",
      "Epoch 1/50\n",
      "354/354 [==============================] - 3s 5ms/step - loss: 0.3182 - accuracy: 0.8616\n",
      "Epoch 2/50\n",
      "354/354 [==============================] - 2s 7ms/step - loss: 0.2133 - accuracy: 0.9071\n",
      "Epoch 3/50\n",
      "354/354 [==============================] - 2s 7ms/step - loss: 0.1902 - accuracy: 0.9203\n",
      "Epoch 4/50\n",
      "354/354 [==============================] - 2s 5ms/step - loss: 0.1754 - accuracy: 0.9231\n",
      "Epoch 5/50\n",
      "354/354 [==============================] - 1s 3ms/step - loss: 0.1657 - accuracy: 0.9296\n",
      "Epoch 6/50\n",
      "354/354 [==============================] - 1s 2ms/step - loss: 0.1551 - accuracy: 0.9329\n",
      "Epoch 7/50\n",
      "354/354 [==============================] - 1s 2ms/step - loss: 0.1476 - accuracy: 0.9375\n",
      "Epoch 8/50\n",
      "354/354 [==============================] - 1s 2ms/step - loss: 0.1413 - accuracy: 0.9387\n",
      "Epoch 9/50\n",
      "354/354 [==============================] - 1s 2ms/step - loss: 0.1381 - accuracy: 0.9387\n",
      "Epoch 10/50\n",
      "354/354 [==============================] - 1s 2ms/step - loss: 0.1327 - accuracy: 0.9416\n",
      "Epoch 11/50\n",
      "354/354 [==============================] - 1s 2ms/step - loss: 0.1247 - accuracy: 0.9433\n",
      "Epoch 12/50\n",
      "354/354 [==============================] - 1s 2ms/step - loss: 0.1233 - accuracy: 0.9446\n",
      "Epoch 13/50\n",
      "354/354 [==============================] - 1s 2ms/step - loss: 0.1203 - accuracy: 0.9478\n",
      "Epoch 14/50\n",
      "354/354 [==============================] - 1s 2ms/step - loss: 0.1140 - accuracy: 0.9500\n",
      "Epoch 15/50\n",
      "354/354 [==============================] - 1s 2ms/step - loss: 0.1130 - accuracy: 0.9477\n",
      "Epoch 16/50\n",
      "354/354 [==============================] - 1s 2ms/step - loss: 0.1094 - accuracy: 0.9522\n",
      "Epoch 17/50\n",
      "354/354 [==============================] - 1s 2ms/step - loss: 0.1087 - accuracy: 0.9504\n",
      "Epoch 18/50\n",
      "354/354 [==============================] - 1s 2ms/step - loss: 0.1087 - accuracy: 0.9510\n",
      "Epoch 19/50\n",
      "354/354 [==============================] - 1s 2ms/step - loss: 0.1036 - accuracy: 0.9541\n",
      "Epoch 20/50\n",
      "354/354 [==============================] - 1s 2ms/step - loss: 0.1067 - accuracy: 0.9504\n",
      "Epoch 21/50\n",
      "354/354 [==============================] - 1s 2ms/step - loss: 0.0986 - accuracy: 0.9531\n",
      "Epoch 22/50\n",
      "354/354 [==============================] - 1s 2ms/step - loss: 0.0996 - accuracy: 0.9532\n",
      "Epoch 23/50\n",
      "354/354 [==============================] - 1s 2ms/step - loss: 0.0966 - accuracy: 0.9551\n",
      "Epoch 24/50\n",
      "354/354 [==============================] - 1s 2ms/step - loss: 0.0952 - accuracy: 0.9548\n",
      "Epoch 25/50\n",
      "354/354 [==============================] - 1s 2ms/step - loss: 0.0941 - accuracy: 0.9567\n",
      "Epoch 26/50\n",
      "354/354 [==============================] - 1s 2ms/step - loss: 0.0961 - accuracy: 0.9543\n",
      "Epoch 27/50\n",
      "354/354 [==============================] - 1s 2ms/step - loss: 0.0952 - accuracy: 0.9539\n",
      "Epoch 28/50\n",
      "354/354 [==============================] - 1s 2ms/step - loss: 0.0925 - accuracy: 0.9566\n",
      "Epoch 29/50\n",
      "354/354 [==============================] - 1s 2ms/step - loss: 0.0890 - accuracy: 0.9577\n",
      "Epoch 30/50\n",
      "354/354 [==============================] - 1s 2ms/step - loss: 0.0930 - accuracy: 0.9569\n",
      "Epoch 31/50\n",
      "354/354 [==============================] - 1s 2ms/step - loss: 0.0934 - accuracy: 0.9589\n",
      "Epoch 32/50\n",
      "354/354 [==============================] - 1s 2ms/step - loss: 0.0882 - accuracy: 0.9575\n",
      "Epoch 33/50\n",
      "354/354 [==============================] - 1s 2ms/step - loss: 0.0873 - accuracy: 0.9592\n",
      "Epoch 34/50\n",
      "354/354 [==============================] - 1s 2ms/step - loss: 0.0865 - accuracy: 0.9583\n",
      "Epoch 35/50\n",
      "354/354 [==============================] - 1s 2ms/step - loss: 0.0863 - accuracy: 0.9589\n",
      "Epoch 36/50\n",
      "354/354 [==============================] - 1s 2ms/step - loss: 0.0886 - accuracy: 0.9573\n",
      "Epoch 37/50\n",
      "354/354 [==============================] - 1s 2ms/step - loss: 0.0851 - accuracy: 0.9599\n",
      "Epoch 38/50\n",
      "354/354 [==============================] - 1s 2ms/step - loss: 0.0824 - accuracy: 0.9613\n",
      "Epoch 39/50\n",
      "354/354 [==============================] - 1s 2ms/step - loss: 0.0822 - accuracy: 0.9596\n",
      "Epoch 40/50\n",
      "354/354 [==============================] - 1s 2ms/step - loss: 0.0903 - accuracy: 0.9573\n",
      "Epoch 41/50\n",
      "354/354 [==============================] - 1s 2ms/step - loss: 0.0829 - accuracy: 0.9593\n",
      "Epoch 42/50\n",
      "354/354 [==============================] - 1s 2ms/step - loss: 0.0834 - accuracy: 0.9607\n",
      "Epoch 43/50\n",
      "354/354 [==============================] - 1s 2ms/step - loss: 0.0808 - accuracy: 0.9627\n",
      "Epoch 44/50\n",
      "354/354 [==============================] - 1s 2ms/step - loss: 0.0819 - accuracy: 0.9618\n",
      "Epoch 45/50\n",
      "354/354 [==============================] - 1s 2ms/step - loss: 0.0809 - accuracy: 0.9608\n",
      "Epoch 46/50\n",
      "354/354 [==============================] - 1s 2ms/step - loss: 0.0825 - accuracy: 0.9603\n",
      "Epoch 47/50\n",
      "354/354 [==============================] - 1s 2ms/step - loss: 0.0820 - accuracy: 0.9603\n",
      "Epoch 48/50\n",
      "354/354 [==============================] - 1s 2ms/step - loss: 0.0802 - accuracy: 0.9603\n",
      "Epoch 49/50\n",
      "354/354 [==============================] - 1s 2ms/step - loss: 0.0780 - accuracy: 0.9618\n",
      "Epoch 50/50\n",
      "354/354 [==============================] - 1s 2ms/step - loss: 0.0802 - accuracy: 0.9604\n",
      "89/89 [==============================] - 0s 2ms/step - loss: 0.2219 - accuracy: 0.9322\n",
      "Epoch 1/50\n",
      "354/354 [==============================] - 1s 2ms/step - loss: 0.3497 - accuracy: 0.8313\n",
      "Epoch 2/50\n",
      "354/354 [==============================] - 1s 2ms/step - loss: 0.2304 - accuracy: 0.8974\n",
      "Epoch 3/50\n",
      "354/354 [==============================] - 1s 2ms/step - loss: 0.2051 - accuracy: 0.9062\n",
      "Epoch 4/50\n",
      "354/354 [==============================] - 1s 2ms/step - loss: 0.1909 - accuracy: 0.9178\n",
      "Epoch 5/50\n",
      "354/354 [==============================] - 1s 2ms/step - loss: 0.1836 - accuracy: 0.9156\n",
      "Epoch 6/50\n",
      "354/354 [==============================] - 1s 2ms/step - loss: 0.1706 - accuracy: 0.9231\n",
      "Epoch 7/50\n",
      "354/354 [==============================] - 1s 2ms/step - loss: 0.1642 - accuracy: 0.9271\n",
      "Epoch 8/50\n",
      "354/354 [==============================] - 1s 2ms/step - loss: 0.1535 - accuracy: 0.9305\n",
      "Epoch 9/50\n",
      "354/354 [==============================] - 1s 2ms/step - loss: 0.1482 - accuracy: 0.9324\n",
      "Epoch 10/50\n",
      "354/354 [==============================] - 1s 2ms/step - loss: 0.1422 - accuracy: 0.9330\n",
      "Epoch 11/50\n",
      "354/354 [==============================] - 1s 2ms/step - loss: 0.1404 - accuracy: 0.9387\n",
      "Epoch 12/50\n",
      "354/354 [==============================] - 1s 2ms/step - loss: 0.1333 - accuracy: 0.9395\n",
      "Epoch 13/50\n",
      "354/354 [==============================] - 1s 2ms/step - loss: 0.1306 - accuracy: 0.9398\n",
      "Epoch 14/50\n",
      "354/354 [==============================] - 1s 2ms/step - loss: 0.1288 - accuracy: 0.9411\n",
      "Epoch 15/50\n",
      "354/354 [==============================] - 1s 2ms/step - loss: 0.1224 - accuracy: 0.9439\n",
      "Epoch 16/50\n",
      "354/354 [==============================] - 1s 2ms/step - loss: 0.1211 - accuracy: 0.9447\n",
      "Epoch 17/50\n",
      "354/354 [==============================] - 1s 2ms/step - loss: 0.1168 - accuracy: 0.9459\n",
      "Epoch 18/50\n",
      "354/354 [==============================] - 1s 2ms/step - loss: 0.1141 - accuracy: 0.9470\n",
      "Epoch 19/50\n",
      "354/354 [==============================] - 1s 2ms/step - loss: 0.1110 - accuracy: 0.9488\n",
      "Epoch 20/50\n",
      "354/354 [==============================] - 1s 2ms/step - loss: 0.1078 - accuracy: 0.9484\n",
      "Epoch 21/50\n",
      "354/354 [==============================] - 1s 2ms/step - loss: 0.1100 - accuracy: 0.9480\n",
      "Epoch 22/50\n",
      "354/354 [==============================] - 1s 2ms/step - loss: 0.1067 - accuracy: 0.9525\n",
      "Epoch 23/50\n",
      "354/354 [==============================] - 1s 2ms/step - loss: 0.1021 - accuracy: 0.9529\n",
      "Epoch 24/50\n",
      "354/354 [==============================] - 1s 2ms/step - loss: 0.0991 - accuracy: 0.9521\n",
      "Epoch 25/50\n",
      "354/354 [==============================] - 1s 2ms/step - loss: 0.0974 - accuracy: 0.9553\n",
      "Epoch 26/50\n",
      "354/354 [==============================] - 1s 2ms/step - loss: 0.0991 - accuracy: 0.9551\n",
      "Epoch 27/50\n",
      "354/354 [==============================] - 1s 2ms/step - loss: 0.0989 - accuracy: 0.9545\n",
      "Epoch 28/50\n",
      "354/354 [==============================] - 1s 2ms/step - loss: 0.0959 - accuracy: 0.9541\n",
      "Epoch 29/50\n",
      "354/354 [==============================] - 1s 2ms/step - loss: 0.0939 - accuracy: 0.9528\n",
      "Epoch 30/50\n",
      "354/354 [==============================] - 1s 2ms/step - loss: 0.0919 - accuracy: 0.9563\n",
      "Epoch 31/50\n",
      "354/354 [==============================] - 1s 2ms/step - loss: 0.0959 - accuracy: 0.9527\n",
      "Epoch 32/50\n",
      "354/354 [==============================] - 1s 2ms/step - loss: 0.0890 - accuracy: 0.9592\n",
      "Epoch 33/50\n",
      "354/354 [==============================] - 1s 2ms/step - loss: 0.0909 - accuracy: 0.9582\n",
      "Epoch 34/50\n",
      "354/354 [==============================] - 1s 2ms/step - loss: 0.0892 - accuracy: 0.9569\n",
      "Epoch 35/50\n",
      "354/354 [==============================] - 1s 2ms/step - loss: 0.0891 - accuracy: 0.9566\n",
      "Epoch 36/50\n",
      "354/354 [==============================] - 1s 2ms/step - loss: 0.0865 - accuracy: 0.9580\n",
      "Epoch 37/50\n",
      "354/354 [==============================] - 1s 2ms/step - loss: 0.0891 - accuracy: 0.9575\n",
      "Epoch 38/50\n",
      "354/354 [==============================] - 1s 2ms/step - loss: 0.0894 - accuracy: 0.9569\n",
      "Epoch 39/50\n",
      "354/354 [==============================] - 1s 2ms/step - loss: 0.0866 - accuracy: 0.9599\n",
      "Epoch 40/50\n",
      "354/354 [==============================] - 1s 2ms/step - loss: 0.0853 - accuracy: 0.9599\n",
      "Epoch 41/50\n",
      "354/354 [==============================] - 1s 2ms/step - loss: 0.0842 - accuracy: 0.9582\n",
      "Epoch 42/50\n",
      "354/354 [==============================] - 1s 2ms/step - loss: 0.0827 - accuracy: 0.9597\n",
      "Epoch 43/50\n",
      "354/354 [==============================] - 1s 2ms/step - loss: 0.0856 - accuracy: 0.9562\n",
      "Epoch 44/50\n",
      "354/354 [==============================] - 1s 2ms/step - loss: 0.0817 - accuracy: 0.9606\n",
      "Epoch 45/50\n",
      "354/354 [==============================] - 1s 2ms/step - loss: 0.0825 - accuracy: 0.9596\n",
      "Epoch 46/50\n",
      "354/354 [==============================] - 1s 2ms/step - loss: 0.0806 - accuracy: 0.9628\n",
      "Epoch 47/50\n",
      "354/354 [==============================] - 1s 2ms/step - loss: 0.0838 - accuracy: 0.9600\n",
      "Epoch 48/50\n",
      "354/354 [==============================] - 1s 2ms/step - loss: 0.0836 - accuracy: 0.9606\n",
      "Epoch 49/50\n",
      "354/354 [==============================] - 1s 2ms/step - loss: 0.0839 - accuracy: 0.9593\n",
      "Epoch 50/50\n",
      "354/354 [==============================] - 1s 2ms/step - loss: 0.0783 - accuracy: 0.9613\n",
      "89/89 [==============================] - 0s 2ms/step - loss: 0.2112 - accuracy: 0.9321\n",
      "Baseline: 93.41% (0.85%)\n"
     ]
    }
   ],
   "source": [
    "estimator = KerasClassifier(build_fn=baseline_model, epochs=50, batch_size=20, verbose=1)\n",
    "kfold = KFold(n_splits=5, shuffle=True)\n",
    "result = cross_val_score(estimator, X_train,y_train , cv=kfold)\n",
    "print(\"Baseline: %.2f%% (%.2f%%)\" % (result.mean()*100, result.std()*100))"
   ]
  },
  {
   "cell_type": "markdown",
   "metadata": {
    "id": "kcNg2jAAyuFm"
   },
   "source": [
    "Based Upon the Result Random forest is performing well. Let's tune the parameter for further better accuracy"
   ]
  },
  {
   "cell_type": "code",
   "execution_count": 45,
   "metadata": {
    "executionInfo": {
     "elapsed": 361,
     "status": "ok",
     "timestamp": 1671378246784,
     "user": {
      "displayName": "Shan Thiagarajan",
      "userId": "07848716946087442606"
     },
     "user_tz": -330
    },
    "id": "cYUe6DQxyuFm"
   },
   "outputs": [],
   "source": [
    "from sklearn.model_selection import GridSearchCV\n",
    "# Create parameter grid based on the results of the random search \n",
    "param_grid1 = {\n",
    "    'max_depth': [50,80, 90, 100, 110]\n",
    "}\n",
    "param_grid2 ={\n",
    "    'min_samples_leaf': [1,2,3,4,5]\n",
    "}\n",
    "param_grid3 ={\n",
    "    'min_samples_split': [2,4,6,8,10]\n",
    "}\n",
    "param_grid4 ={\n",
    "    'n_estimators': [50,100, 200, 300, 1000]\n",
    "}"
   ]
  },
  {
   "cell_type": "markdown",
   "metadata": {
    "id": "7EBAkrW3yuFm"
   },
   "source": [
    "To speed up, You can take parameter grid each one at a time. If you take all at once it may take several minutes depending on the data and complexity of your parameter to train."
   ]
  },
  {
   "cell_type": "code",
   "execution_count": 46,
   "metadata": {
    "colab": {
     "base_uri": "https://localhost:8080/"
    },
    "executionInfo": {
     "elapsed": 25290,
     "status": "ok",
     "timestamp": 1671378296642,
     "user": {
      "displayName": "Shan Thiagarajan",
      "userId": "07848716946087442606"
     },
     "user_tz": -330
    },
    "id": "gm9sA6EqyuFm",
    "outputId": "65b0fc78-a319-42bf-94ae-654800090da5"
   },
   "outputs": [
    {
     "name": "stdout",
     "output_type": "stream",
     "text": [
      "Fitting 3 folds for each of 5 candidates, totalling 15 fits\n"
     ]
    },
    {
     "data": {
      "text/plain": [
       "{'n_estimators': 1000}"
      ]
     },
     "execution_count": 46,
     "metadata": {},
     "output_type": "execute_result"
    }
   ],
   "source": [
    "# Instantiate the grid search model\n",
    "clf = RandomForestClassifier(max_depth= 90,min_samples_leaf=1,min_samples_split=2,n_estimators=200)\n",
    "grid_search = GridSearchCV(estimator = clf, param_grid = param_grid4, \n",
    "                          cv = 3, n_jobs = -1, verbose = 2)\n",
    "# Fit the grid search to the data\n",
    "grid_search.fit(X_train, y_train)\n",
    "grid_search.best_params_"
   ]
  },
  {
   "cell_type": "markdown",
   "metadata": {
    "id": "5_luoDN7yuFm"
   },
   "source": [
    "Upon training we can find that the best parameter:<br>\n",
    "{'bootstrap': True,<br>\n",
    " 'max_depth': 90,<br>\n",
    " 'max_features': 3,<br>\n",
    " 'min_samples_leaf': 3,<br>\n",
    " 'min_samples_split': 10,<br>\n",
    " 'n_estimators': 300}"
   ]
  },
  {
   "cell_type": "markdown",
   "metadata": {
    "id": "V6GB40pvyuFm"
   },
   "source": [
    "Let we just compare the base model vs Grid model to compare the accuracy."
   ]
  },
  {
   "cell_type": "code",
   "execution_count": 47,
   "metadata": {
    "executionInfo": {
     "elapsed": 375,
     "status": "ok",
     "timestamp": 1671378322584,
     "user": {
      "displayName": "Shan Thiagarajan",
      "userId": "07848716946087442606"
     },
     "user_tz": -330
    },
    "id": "c45dUiaxyuFm"
   },
   "outputs": [],
   "source": [
    "base_model = RandomForestClassifier()\n",
    "grid_model = RandomForestClassifier(max_depth= 90,min_samples_leaf=1,min_samples_split=2,n_estimators=200)"
   ]
  },
  {
   "cell_type": "code",
   "execution_count": 48,
   "metadata": {
    "colab": {
     "base_uri": "https://localhost:8080/"
    },
    "executionInfo": {
     "elapsed": 2136,
     "status": "ok",
     "timestamp": 1671378327784,
     "user": {
      "displayName": "Shan Thiagarajan",
      "userId": "07848716946087442606"
     },
     "user_tz": -330
    },
    "id": "72soizSEyuFm",
    "outputId": "6349686a-b770-498b-f646-e35ad3af6b16"
   },
   "outputs": [
    {
     "data": {
      "text/plain": [
       "RandomForestClassifier(max_depth=90, n_estimators=200)"
      ]
     },
     "execution_count": 48,
     "metadata": {},
     "output_type": "execute_result"
    }
   ],
   "source": [
    "base_model.fit(X_train,y_train)\n",
    "grid_model.fit(X_train,y_train)"
   ]
  },
  {
   "cell_type": "code",
   "execution_count": null,
   "metadata": {
    "id": "DP1_1ydlyuFn",
    "outputId": "ad5333d9-a8bc-4eaf-c1f5-bf6fdc0b0861"
   },
   "outputs": [
    {
     "name": "stdout",
     "output_type": "stream",
     "text": [
      "Base Accuracy : 0.9384893713251922\n",
      "Grid Model: 0.939846223428313\n"
     ]
    }
   ],
   "source": [
    "print(\"Base Accuracy : {}\".format(accuracy_score(base_model.predict(X_test),y_test)))\n",
    "print(\"Grid Model: {}\".format(accuracy_score(grid_model.predict(X_test),y_test)))"
   ]
  },
  {
   "cell_type": "code",
   "execution_count": 49,
   "metadata": {
    "executionInfo": {
     "elapsed": 358,
     "status": "ok",
     "timestamp": 1671378352876,
     "user": {
      "displayName": "Shan Thiagarajan",
      "userId": "07848716946087442606"
     },
     "user_tz": -330
    },
    "id": "bkWSj6VYyuFn"
   },
   "outputs": [],
   "source": [
    "prediction = grid_model.predict(X_test)"
   ]
  },
  {
   "cell_type": "code",
   "execution_count": 51,
   "metadata": {
    "colab": {
     "base_uri": "https://localhost:8080/"
    },
    "executionInfo": {
     "elapsed": 3,
     "status": "ok",
     "timestamp": 1671378395732,
     "user": {
      "displayName": "Shan Thiagarajan",
      "userId": "07848716946087442606"
     },
     "user_tz": -330
    },
    "id": "XmcNWjWi6gwM",
    "outputId": "40165845-3e0c-458c-d1ad-54047c799965"
   },
   "outputs": [
    {
     "name": "stdout",
     "output_type": "stream",
     "text": [
      "              precision    recall  f1-score   support\n",
      "\n",
      "          -1       0.92      0.94      0.93       932\n",
      "           1       0.95      0.94      0.95      1279\n",
      "\n",
      "    accuracy                           0.94      2211\n",
      "   macro avg       0.93      0.94      0.94      2211\n",
      "weighted avg       0.94      0.94      0.94      2211\n",
      "\n"
     ]
    }
   ],
   "source": [
    "print(classification_report(prediction, y_test))"
   ]
  },
  {
   "cell_type": "code",
   "execution_count": 50,
   "metadata": {
    "colab": {
     "base_uri": "https://localhost:8080/",
     "height": 303
    },
    "executionInfo": {
     "elapsed": 413,
     "status": "ok",
     "timestamp": 1671378355868,
     "user": {
      "displayName": "Shan Thiagarajan",
      "userId": "07848716946087442606"
     },
     "user_tz": -330
    },
    "id": "pZhqtrvjyuFn",
    "outputId": "497591d4-fa07-40a3-d594-7b4e69c48adc"
   },
   "outputs": [
    {
     "name": "stdout",
     "output_type": "stream",
     "text": [
      "Conf matrix Random Forest: [[ 875   81]\n",
      " [  57 1198]]\n"
     ]
    },
    {
     "data": {
      "image/png": "[encoded data removed]",
      "text/plain": [
       "<Figure size 432x288 with 1 Axes>"
      ]
     },
     "metadata": {},
     "output_type": "display_data"
    }
   ],
   "source": [
    "fpr,tpr,thresh = roc_curve(y_test,prediction)\n",
    "roc_auc = accuracy_score(y_test,prediction)\n",
    "\n",
    "# Plot ROC curve for Random-forest\n",
    "plt.plot(fpr,tpr,'b',label = 'Random Forest')\n",
    "plt.legend(loc ='lower right')\n",
    "print(\"Conf matrix Random Forest:\",confusion_matrix(y_test,prediction))\n",
    "plt.show()"
   ]
  },
  {
   "cell_type": "markdown",
   "metadata": {
    "id": "0f8LDQaRyuFn"
   },
   "source": [
    "To check if our model is not overfitting let we check about the KFold cross validation."
   ]
  },
  {
   "cell_type": "code",
   "execution_count": null,
   "metadata": {
    "id": "veKo6z9RyuFn"
   },
   "outputs": [],
   "source": [
    "seed = 42\n",
    "scoring = \"accuracy\"\n",
    "kfold_grid = KFold(n_splits=10, shuffle = True,random_state=seed)\n",
    "cv_results_grid = cross_val_score(grid_model, X_train, y_train, cv=kfold_grid, scoring=scoring)"
   ]
  },
  {
   "cell_type": "code",
   "execution_count": null,
   "metadata": {
    "id": "fwbNTl1ZyuFn",
    "outputId": "e37e818f-9226-43cb-eb07-780b44a74311"
   },
   "outputs": [
    {
     "name": "stdout",
     "output_type": "stream",
     "text": [
      "Random Forest: 93.634226 (1.081400)\n"
     ]
    }
   ],
   "source": [
    "print(\"%s: %f (%f)\" % (\"Random Forest\", cv_results_grid.mean()*100, cv_results_grid.std()*100))"
   ]
  },
  {
   "cell_type": "markdown",
   "metadata": {
    "id": "15UK5DEoyuFn"
   },
   "source": [
    "Since we are using Random forest, let we check each feature importance in tree."
   ]
  },
  {
   "cell_type": "code",
   "execution_count": 52,
   "metadata": {
    "executionInfo": {
     "elapsed": 393,
     "status": "ok",
     "timestamp": 1671378439867,
     "user": {
      "displayName": "Shan Thiagarajan",
      "userId": "07848716946087442606"
     },
     "user_tz": -330
    },
    "id": "5EbbYNRiyuFn"
   },
   "outputs": [],
   "source": [
    "importances = grid_model.feature_importances_\n",
    "std = np.std([tree.feature_importances_ for tree in grid_model.estimators_], axis=0)"
   ]
  },
  {
   "cell_type": "code",
   "execution_count": 53,
   "metadata": {
    "colab": {
     "base_uri": "https://localhost:8080/"
    },
    "executionInfo": {
     "elapsed": 385,
     "status": "ok",
     "timestamp": 1671378446302,
     "user": {
      "displayName": "Shan Thiagarajan",
      "userId": "07848716946087442606"
     },
     "user_tz": -330
    },
    "id": "fmx0nkbqyuFo",
    "outputId": "acf4d6b2-db61-40fa-e1ab-1791cde6d788"
   },
   "outputs": [
    {
     "name": "stdout",
     "output_type": "stream",
     "text": [
      "Feature ranking:\n",
      "1. feature 11 (0.379056)\n",
      "2. feature 19 (0.106669)\n",
      "3. feature 6 (0.105431)\n",
      "4. feature 5 (0.066593)\n",
      "5. feature 12 (0.063439)\n",
      "6. feature 13 (0.032827)\n",
      "7. feature 10 (0.031297)\n",
      "8. feature 7 (0.027318)\n",
      "9. feature 17 (0.025647)\n",
      "10. feature 0 (0.022584)\n",
      "11. feature 20 (0.021041)\n",
      "12. feature 18 (0.020904)\n",
      "13. feature 1 (0.013350)\n",
      "14. feature 8 (0.013159)\n",
      "15. feature 14 (0.010419)\n",
      "16. feature 21 (0.009749)\n",
      "17. feature 9 (0.009650)\n",
      "18. feature 2 (0.009471)\n",
      "19. feature 3 (0.009393)\n",
      "20. feature 15 (0.008678)\n",
      "21. feature 4 (0.006809)\n",
      "22. feature 16 (0.006515)\n"
     ]
    }
   ],
   "source": [
    "indices = np.argsort(importances)[::-1]\n",
    "# Print the feature ranking\n",
    "print(\"Feature ranking:\")\n",
    "for f in range(X_train.shape[1]):\n",
    "    print(\"%d. feature %d (%f)\" % (f + 1, indices[f], importances[indices[f]]))"
   ]
  },
  {
   "cell_type": "code",
   "execution_count": null,
   "metadata": {
    "id": "1kWUvrLjyuFo",
    "outputId": "c3eda8d4-d79a-4cd3-f6b9-7adb56d73c1c"
   },
   "outputs": [
    {
     "name": "stdout",
     "output_type": "stream",
     "text": [
      "              precision    recall  f1-score   support\n",
      "\n",
      "          -1       0.94      0.92      0.93       956\n",
      "           1       0.94      0.96      0.95      1255\n",
      "\n",
      "    accuracy                           0.94      2211\n",
      "   macro avg       0.94      0.94      0.94      2211\n",
      "weighted avg       0.94      0.94      0.94      2211\n",
      "\n",
      "The accuracy is: 0.939846223428313\n",
      "[[ 879   77]\n",
      " [  56 1199]]\n"
     ]
    }
   ],
   "source": [
    "pred=grid_model.predict(X_test)\n",
    "print(classification_report(y_test, pred))\n",
    "print('The accuracy is:', accuracy_score(y_test, pred))\n",
    "print(metrics.confusion_matrix(y_test, pred))"
   ]
  },
  {
   "cell_type": "code",
   "execution_count": null,
   "metadata": {
    "id": "9DED0TlNyuFo",
    "outputId": "68916258-8832-40c9-81f0-ffb758b076f9"
   },
   "outputs": [
    {
     "data": {
      "text/plain": [
       "['classifier/finalized_model.sav']"
      ]
     },
     "execution_count": 41,
     "metadata": {},
     "output_type": "execute_result"
    }
   ],
   "source": [
    "# save the model to disk\n",
    "filename = 'classifier/finalized_model.sav'\n",
    "joblib.dump(grid_model, filename)"
   ]
  },
  {
   "cell_type": "code",
   "execution_count": null,
   "metadata": {
    "id": "ekxLn8eYyuFo"
   },
   "outputs": [],
   "source": []
  }
 ],
 "metadata": {
  "colab": {
   "provenance": []
  },
  "kernelspec": {
   "display_name": "Python 3 (ipykernel)",
   "language": "python",
   "name": "python3"
  },
  "language_info": {
   "codemirror_mode": {
    "name": "ipython",
    "version": 3
   },
   "file_extension": ".py",
   "mimetype": "text/x-python",
   "name": "python",
   "nbconvert_exporter": "python",
   "pygments_lexer": "ipython3",
   "version": "3.9.13"
  }
 },
 "nbformat": 4,
 "nbformat_minor": 1
}
